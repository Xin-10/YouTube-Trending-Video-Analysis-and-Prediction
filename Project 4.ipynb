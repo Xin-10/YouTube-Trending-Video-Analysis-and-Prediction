{
 "cells": [
  {
   "cell_type": "markdown",
   "id": "85df2cd6",
   "metadata": {},
   "source": [
    "# P1: Project EDA"
   ]
  },
  {
   "cell_type": "code",
   "execution_count": 111,
   "id": "692bd036",
   "metadata": {
    "id": "692bd036"
   },
   "outputs": [],
   "source": [
    "import numpy as np\n",
    "import pandas as pd\n",
    "import matplotlib.pyplot as plt\n",
    "import seaborn as sns"
   ]
  },
  {
   "cell_type": "markdown",
   "id": "0af5ac4f",
   "metadata": {
    "id": "0af5ac4f"
   },
   "source": [
    "### Data overview"
   ]
  },
  {
   "cell_type": "code",
   "execution_count": 112,
   "id": "d4dd7b61",
   "metadata": {},
   "outputs": [],
   "source": [
    "data_df = pd.read_csv('./trending_yt_videos_113_countries.csv')"
   ]
  },
  {
   "cell_type": "code",
   "execution_count": 113,
   "id": "b787489f",
   "metadata": {
    "id": "b787489f",
    "outputId": "44c64b56-9dc7-428f-d06b-fb5b404ef3db"
   },
   "outputs": [
    {
     "data": {
      "text/plain": [
       "(3059099, 18)"
      ]
     },
     "execution_count": 113,
     "metadata": {},
     "output_type": "execute_result"
    }
   ],
   "source": [
    "data_df.shape"
   ]
  },
  {
   "cell_type": "code",
   "execution_count": 114,
   "id": "3c2617ca",
   "metadata": {
    "id": "3c2617ca",
    "outputId": "5356647f-5e69-400d-c950-5ee388bd0310"
   },
   "outputs": [
    {
     "data": {
      "text/html": [
       "<div>\n",
       "<style scoped>\n",
       "    .dataframe tbody tr th:only-of-type {\n",
       "        vertical-align: middle;\n",
       "    }\n",
       "\n",
       "    .dataframe tbody tr th {\n",
       "        vertical-align: top;\n",
       "    }\n",
       "\n",
       "    .dataframe thead th {\n",
       "        text-align: right;\n",
       "    }\n",
       "</style>\n",
       "<table border=\"1\" class=\"dataframe\">\n",
       "  <thead>\n",
       "    <tr style=\"text-align: right;\">\n",
       "      <th></th>\n",
       "      <th>title</th>\n",
       "      <th>channel_name</th>\n",
       "      <th>daily_rank</th>\n",
       "      <th>daily_movement</th>\n",
       "      <th>weekly_movement</th>\n",
       "      <th>snapshot_date</th>\n",
       "      <th>country</th>\n",
       "      <th>view_count</th>\n",
       "      <th>like_count</th>\n",
       "      <th>comment_count</th>\n",
       "      <th>description</th>\n",
       "      <th>thumbnail_url</th>\n",
       "      <th>video_id</th>\n",
       "      <th>channel_id</th>\n",
       "      <th>video_tags</th>\n",
       "      <th>kind</th>\n",
       "      <th>publish_date</th>\n",
       "      <th>langauge</th>\n",
       "    </tr>\n",
       "  </thead>\n",
       "  <tbody>\n",
       "    <tr>\n",
       "      <th>0</th>\n",
       "      <td>Donator Calvins - Door Ratovharwa (Mjolo Offic...</td>\n",
       "      <td>Zimcelebs Tv</td>\n",
       "      <td>1</td>\n",
       "      <td>1</td>\n",
       "      <td>1</td>\n",
       "      <td>2025-04-21</td>\n",
       "      <td>ZW</td>\n",
       "      <td>359453</td>\n",
       "      <td>7000</td>\n",
       "      <td>560</td>\n",
       "      <td>Copyright 2025 © Donator Calvins\\nShot Leoy V\\...</td>\n",
       "      <td>https://i.ytimg.com/vi/Wd3UQcILT78/mqdefault.jpg</td>\n",
       "      <td>Wd3UQcILT78</td>\n",
       "      <td>UCwx1kRB_tFZZk92EKeaZRdw</td>\n",
       "      <td>NaN</td>\n",
       "      <td>youtube#video</td>\n",
       "      <td>2025-04-08 00:00:00+00:00</td>\n",
       "      <td>NaN</td>\n",
       "    </tr>\n",
       "    <tr>\n",
       "      <th>1</th>\n",
       "      <td>Winky D - Propaganda (Official Video)</td>\n",
       "      <td>winkyonline</td>\n",
       "      <td>2</td>\n",
       "      <td>-1</td>\n",
       "      <td>-1</td>\n",
       "      <td>2025-04-21</td>\n",
       "      <td>ZW</td>\n",
       "      <td>571176</td>\n",
       "      <td>43730</td>\n",
       "      <td>7781</td>\n",
       "      <td>Purchase the full Riddim Compilation from stor...</td>\n",
       "      <td>https://i.ytimg.com/vi/UScy08GG_ko/mqdefault.jpg</td>\n",
       "      <td>UScy08GG_ko</td>\n",
       "      <td>UC9iqkdRHEbX7hwEu9D6J8wg</td>\n",
       "      <td>NaN</td>\n",
       "      <td>youtube#video</td>\n",
       "      <td>2025-04-04 00:00:00+00:00</td>\n",
       "      <td>NaN</td>\n",
       "    </tr>\n",
       "    <tr>\n",
       "      <th>2</th>\n",
       "      <td>Blessed Geza Calls For National Shutdown and E...</td>\n",
       "      <td>TechMag TV</td>\n",
       "      <td>3</td>\n",
       "      <td>4</td>\n",
       "      <td>47</td>\n",
       "      <td>2025-04-21</td>\n",
       "      <td>ZW</td>\n",
       "      <td>101523</td>\n",
       "      <td>1113</td>\n",
       "      <td>405</td>\n",
       "      <td>Blessed Geza Calls For National Shutdown and d...</td>\n",
       "      <td>https://i.ytimg.com/vi/K8P6cqDDRwo/mqdefault.jpg</td>\n",
       "      <td>K8P6cqDDRwo</td>\n",
       "      <td>UC5Cs-mGmXWdteODG5MyOlyw</td>\n",
       "      <td>NaN</td>\n",
       "      <td>youtube#video</td>\n",
       "      <td>2025-04-19 00:00:00+00:00</td>\n",
       "      <td>en</td>\n",
       "    </tr>\n",
       "    <tr>\n",
       "      <th>3</th>\n",
       "      <td>Jah Prayzah - Fambai Neni (Ndini Mukudzeyi Alb...</td>\n",
       "      <td>Jah Prayzah</td>\n",
       "      <td>4</td>\n",
       "      <td>-1</td>\n",
       "      <td>46</td>\n",
       "      <td>2025-04-21</td>\n",
       "      <td>ZW</td>\n",
       "      <td>138370</td>\n",
       "      <td>9078</td>\n",
       "      <td>1101</td>\n",
       "      <td>A spiritual offering ahead of the Ndini Mukudz...</td>\n",
       "      <td>https://i.ytimg.com/vi/ZtdvF83yLLo/mqdefault.jpg</td>\n",
       "      <td>ZtdvF83yLLo</td>\n",
       "      <td>UCPpVYvHuQSIkQwW1pJhfPrA</td>\n",
       "      <td>NaN</td>\n",
       "      <td>youtube#video</td>\n",
       "      <td>2025-04-17 00:00:00+00:00</td>\n",
       "      <td>NaN</td>\n",
       "    </tr>\n",
       "    <tr>\n",
       "      <th>4</th>\n",
       "      <td>Sabhuku Vharazipi episode 01</td>\n",
       "      <td>Sabhuku Vharazipi</td>\n",
       "      <td>5</td>\n",
       "      <td>0</td>\n",
       "      <td>45</td>\n",
       "      <td>2025-04-21</td>\n",
       "      <td>ZW</td>\n",
       "      <td>77231</td>\n",
       "      <td>2577</td>\n",
       "      <td>391</td>\n",
       "      <td>Sabhuku Vharazipi: Ndava kushuwiwa  episode 01</td>\n",
       "      <td>https://i.ytimg.com/vi/bOruezUTrvc/mqdefault.jpg</td>\n",
       "      <td>bOruezUTrvc</td>\n",
       "      <td>UCabD9CBL-Bqjzz-xGP6NgDw</td>\n",
       "      <td>Sabhuku Vharazipi</td>\n",
       "      <td>youtube#video</td>\n",
       "      <td>2025-04-16 00:00:00+00:00</td>\n",
       "      <td>NaN</td>\n",
       "    </tr>\n",
       "  </tbody>\n",
       "</table>\n",
       "</div>"
      ],
      "text/plain": [
       "                                               title       channel_name  \\\n",
       "0  Donator Calvins - Door Ratovharwa (Mjolo Offic...       Zimcelebs Tv   \n",
       "1              Winky D - Propaganda (Official Video)        winkyonline   \n",
       "2  Blessed Geza Calls For National Shutdown and E...         TechMag TV   \n",
       "3  Jah Prayzah - Fambai Neni (Ndini Mukudzeyi Alb...        Jah Prayzah   \n",
       "4                       Sabhuku Vharazipi episode 01  Sabhuku Vharazipi   \n",
       "\n",
       "   daily_rank  daily_movement  weekly_movement snapshot_date country  \\\n",
       "0           1               1                1    2025-04-21      ZW   \n",
       "1           2              -1               -1    2025-04-21      ZW   \n",
       "2           3               4               47    2025-04-21      ZW   \n",
       "3           4              -1               46    2025-04-21      ZW   \n",
       "4           5               0               45    2025-04-21      ZW   \n",
       "\n",
       "   view_count  like_count  comment_count  \\\n",
       "0      359453        7000            560   \n",
       "1      571176       43730           7781   \n",
       "2      101523        1113            405   \n",
       "3      138370        9078           1101   \n",
       "4       77231        2577            391   \n",
       "\n",
       "                                         description  \\\n",
       "0  Copyright 2025 © Donator Calvins\\nShot Leoy V\\...   \n",
       "1  Purchase the full Riddim Compilation from stor...   \n",
       "2  Blessed Geza Calls For National Shutdown and d...   \n",
       "3  A spiritual offering ahead of the Ndini Mukudz...   \n",
       "4     Sabhuku Vharazipi: Ndava kushuwiwa  episode 01   \n",
       "\n",
       "                                      thumbnail_url     video_id  \\\n",
       "0  https://i.ytimg.com/vi/Wd3UQcILT78/mqdefault.jpg  Wd3UQcILT78   \n",
       "1  https://i.ytimg.com/vi/UScy08GG_ko/mqdefault.jpg  UScy08GG_ko   \n",
       "2  https://i.ytimg.com/vi/K8P6cqDDRwo/mqdefault.jpg  K8P6cqDDRwo   \n",
       "3  https://i.ytimg.com/vi/ZtdvF83yLLo/mqdefault.jpg  ZtdvF83yLLo   \n",
       "4  https://i.ytimg.com/vi/bOruezUTrvc/mqdefault.jpg  bOruezUTrvc   \n",
       "\n",
       "                 channel_id         video_tags           kind  \\\n",
       "0  UCwx1kRB_tFZZk92EKeaZRdw                NaN  youtube#video   \n",
       "1  UC9iqkdRHEbX7hwEu9D6J8wg                NaN  youtube#video   \n",
       "2  UC5Cs-mGmXWdteODG5MyOlyw                NaN  youtube#video   \n",
       "3  UCPpVYvHuQSIkQwW1pJhfPrA                NaN  youtube#video   \n",
       "4  UCabD9CBL-Bqjzz-xGP6NgDw  Sabhuku Vharazipi  youtube#video   \n",
       "\n",
       "                publish_date langauge  \n",
       "0  2025-04-08 00:00:00+00:00      NaN  \n",
       "1  2025-04-04 00:00:00+00:00      NaN  \n",
       "2  2025-04-19 00:00:00+00:00       en  \n",
       "3  2025-04-17 00:00:00+00:00      NaN  \n",
       "4  2025-04-16 00:00:00+00:00      NaN  "
      ]
     },
     "execution_count": 114,
     "metadata": {},
     "output_type": "execute_result"
    }
   ],
   "source": [
    "data_df.head()"
   ]
  },
  {
   "cell_type": "code",
   "execution_count": 115,
   "id": "b73b26d6",
   "metadata": {},
   "outputs": [
    {
     "name": "stdout",
     "output_type": "stream",
     "text": [
      "<class 'pandas.core.frame.DataFrame'>\n",
      "RangeIndex: 3059099 entries, 0 to 3059098\n",
      "Data columns (total 18 columns):\n",
      " #   Column           Dtype \n",
      "---  ------           ----- \n",
      " 0   title            object\n",
      " 1   channel_name     object\n",
      " 2   daily_rank       int64 \n",
      " 3   daily_movement   int64 \n",
      " 4   weekly_movement  int64 \n",
      " 5   snapshot_date    object\n",
      " 6   country          object\n",
      " 7   view_count       int64 \n",
      " 8   like_count       int64 \n",
      " 9   comment_count    int64 \n",
      " 10  description      object\n",
      " 11  thumbnail_url    object\n",
      " 12  video_id         object\n",
      " 13  channel_id       object\n",
      " 14  video_tags       object\n",
      " 15  kind             object\n",
      " 16  publish_date     object\n",
      " 17  langauge         object\n",
      "dtypes: int64(6), object(12)\n",
      "memory usage: 420.1+ MB\n"
     ]
    }
   ],
   "source": [
    "data_df.info()"
   ]
  },
  {
   "cell_type": "markdown",
   "id": "b82d9c08",
   "metadata": {
    "id": "b82d9c08"
   },
   "source": [
    "### Data cleaning"
   ]
  },
  {
   "cell_type": "markdown",
   "id": "c25cd609",
   "metadata": {
    "id": "c25cd609"
   },
   "source": [
    "#### check missing values"
   ]
  },
  {
   "cell_type": "code",
   "execution_count": 116,
   "id": "c2ef5ca0",
   "metadata": {
    "id": "c2ef5ca0",
    "outputId": "6e404bd8-332b-4cd2-8f38-c4c00609a56a"
   },
   "outputs": [
    {
     "data": {
      "text/plain": [
       "title                    0\n",
       "channel_name             0\n",
       "daily_rank               0\n",
       "daily_movement           0\n",
       "weekly_movement          0\n",
       "snapshot_date            0\n",
       "country                  0\n",
       "view_count               0\n",
       "like_count               0\n",
       "comment_count            0\n",
       "description         576002\n",
       "thumbnail_url            0\n",
       "video_id                 0\n",
       "channel_id               0\n",
       "video_tags         1024253\n",
       "kind                     0\n",
       "publish_date             0\n",
       "langauge            779748\n",
       "dtype: int64"
      ]
     },
     "execution_count": 116,
     "metadata": {},
     "output_type": "execute_result"
    }
   ],
   "source": [
    "data_df.isnull().sum()"
   ]
  },
  {
   "cell_type": "code",
   "execution_count": 117,
   "id": "d42fa2c2",
   "metadata": {},
   "outputs": [],
   "source": [
    "data_df = data_df[data_df['view_count'] > 0]"
   ]
  },
  {
   "cell_type": "code",
   "execution_count": 118,
   "id": "deffef83",
   "metadata": {},
   "outputs": [],
   "source": [
    "data_df['snapshot_date'] = pd.to_datetime(data_df['snapshot_date'])\n",
    "data_df['publish_date'] = pd.to_datetime(data_df['publish_date'])"
   ]
  },
  {
   "cell_type": "code",
   "execution_count": 119,
   "id": "a35e535c",
   "metadata": {},
   "outputs": [],
   "source": [
    "data_df['video_tags'] = data_df['video_tags'].fillna('') "
   ]
  },
  {
   "cell_type": "code",
   "execution_count": 120,
   "id": "79da8363",
   "metadata": {},
   "outputs": [],
   "source": [
    "data_df = data_df.drop('description', axis=1)"
   ]
  },
  {
   "cell_type": "code",
   "execution_count": 121,
   "id": "d98864dd",
   "metadata": {},
   "outputs": [],
   "source": [
    "data_df = data_df.drop('langauge', axis=1)"
   ]
  },
  {
   "cell_type": "code",
   "execution_count": 122,
   "id": "8a685d38",
   "metadata": {},
   "outputs": [
    {
     "name": "stdout",
     "output_type": "stream",
     "text": [
      "<class 'pandas.core.frame.DataFrame'>\n",
      "Int64Index: 3058329 entries, 0 to 3059098\n",
      "Data columns (total 16 columns):\n",
      " #   Column           Dtype              \n",
      "---  ------           -----              \n",
      " 0   title            object             \n",
      " 1   channel_name     object             \n",
      " 2   daily_rank       int64              \n",
      " 3   daily_movement   int64              \n",
      " 4   weekly_movement  int64              \n",
      " 5   snapshot_date    datetime64[ns]     \n",
      " 6   country          object             \n",
      " 7   view_count       int64              \n",
      " 8   like_count       int64              \n",
      " 9   comment_count    int64              \n",
      " 10  thumbnail_url    object             \n",
      " 11  video_id         object             \n",
      " 12  channel_id       object             \n",
      " 13  video_tags       object             \n",
      " 14  kind             object             \n",
      " 15  publish_date     datetime64[ns, UTC]\n",
      "dtypes: datetime64[ns, UTC](1), datetime64[ns](1), int64(6), object(8)\n",
      "memory usage: 396.7+ MB\n"
     ]
    }
   ],
   "source": [
    "data_df.info()"
   ]
  },
  {
   "cell_type": "code",
   "execution_count": 123,
   "id": "70365370",
   "metadata": {},
   "outputs": [
    {
     "data": {
      "text/plain": [
       "title              0\n",
       "channel_name       0\n",
       "daily_rank         0\n",
       "daily_movement     0\n",
       "weekly_movement    0\n",
       "snapshot_date      0\n",
       "country            0\n",
       "view_count         0\n",
       "like_count         0\n",
       "comment_count      0\n",
       "thumbnail_url      0\n",
       "video_id           0\n",
       "channel_id         0\n",
       "video_tags         0\n",
       "kind               0\n",
       "publish_date       0\n",
       "dtype: int64"
      ]
     },
     "execution_count": 123,
     "metadata": {},
     "output_type": "execute_result"
    }
   ],
   "source": [
    "data_df.isnull().sum()"
   ]
  },
  {
   "cell_type": "code",
   "execution_count": 124,
   "id": "de80d030",
   "metadata": {},
   "outputs": [
    {
     "data": {
      "text/plain": [
       "Index(['title', 'channel_name', 'daily_rank', 'daily_movement',\n",
       "       'weekly_movement', 'snapshot_date', 'country', 'view_count',\n",
       "       'like_count', 'comment_count', 'thumbnail_url', 'video_id',\n",
       "       'channel_id', 'video_tags', 'kind', 'publish_date'],\n",
       "      dtype='object')"
      ]
     },
     "execution_count": 124,
     "metadata": {},
     "output_type": "execute_result"
    }
   ],
   "source": [
    "data_df.columns"
   ]
  },
  {
   "cell_type": "code",
   "execution_count": 125,
   "id": "222da8e1",
   "metadata": {},
   "outputs": [
    {
     "data": {
      "text/html": [
       "<div>\n",
       "<style scoped>\n",
       "    .dataframe tbody tr th:only-of-type {\n",
       "        vertical-align: middle;\n",
       "    }\n",
       "\n",
       "    .dataframe tbody tr th {\n",
       "        vertical-align: top;\n",
       "    }\n",
       "\n",
       "    .dataframe thead th {\n",
       "        text-align: right;\n",
       "    }\n",
       "</style>\n",
       "<table border=\"1\" class=\"dataframe\">\n",
       "  <thead>\n",
       "    <tr style=\"text-align: right;\">\n",
       "      <th></th>\n",
       "      <th>title</th>\n",
       "      <th>channel_name</th>\n",
       "      <th>daily_rank</th>\n",
       "      <th>daily_movement</th>\n",
       "      <th>weekly_movement</th>\n",
       "      <th>snapshot_date</th>\n",
       "      <th>country</th>\n",
       "      <th>view_count</th>\n",
       "      <th>like_count</th>\n",
       "      <th>comment_count</th>\n",
       "      <th>thumbnail_url</th>\n",
       "      <th>video_id</th>\n",
       "      <th>channel_id</th>\n",
       "      <th>video_tags</th>\n",
       "      <th>kind</th>\n",
       "      <th>publish_date</th>\n",
       "    </tr>\n",
       "  </thead>\n",
       "  <tbody>\n",
       "    <tr>\n",
       "      <th>0</th>\n",
       "      <td>Donator Calvins - Door Ratovharwa (Mjolo Offic...</td>\n",
       "      <td>Zimcelebs Tv</td>\n",
       "      <td>1</td>\n",
       "      <td>1</td>\n",
       "      <td>1</td>\n",
       "      <td>2025-04-21</td>\n",
       "      <td>ZW</td>\n",
       "      <td>359453</td>\n",
       "      <td>7000</td>\n",
       "      <td>560</td>\n",
       "      <td>https://i.ytimg.com/vi/Wd3UQcILT78/mqdefault.jpg</td>\n",
       "      <td>Wd3UQcILT78</td>\n",
       "      <td>UCwx1kRB_tFZZk92EKeaZRdw</td>\n",
       "      <td></td>\n",
       "      <td>youtube#video</td>\n",
       "      <td>2025-04-08 00:00:00+00:00</td>\n",
       "    </tr>\n",
       "    <tr>\n",
       "      <th>1</th>\n",
       "      <td>Winky D - Propaganda (Official Video)</td>\n",
       "      <td>winkyonline</td>\n",
       "      <td>2</td>\n",
       "      <td>-1</td>\n",
       "      <td>-1</td>\n",
       "      <td>2025-04-21</td>\n",
       "      <td>ZW</td>\n",
       "      <td>571176</td>\n",
       "      <td>43730</td>\n",
       "      <td>7781</td>\n",
       "      <td>https://i.ytimg.com/vi/UScy08GG_ko/mqdefault.jpg</td>\n",
       "      <td>UScy08GG_ko</td>\n",
       "      <td>UC9iqkdRHEbX7hwEu9D6J8wg</td>\n",
       "      <td></td>\n",
       "      <td>youtube#video</td>\n",
       "      <td>2025-04-04 00:00:00+00:00</td>\n",
       "    </tr>\n",
       "    <tr>\n",
       "      <th>2</th>\n",
       "      <td>Blessed Geza Calls For National Shutdown and E...</td>\n",
       "      <td>TechMag TV</td>\n",
       "      <td>3</td>\n",
       "      <td>4</td>\n",
       "      <td>47</td>\n",
       "      <td>2025-04-21</td>\n",
       "      <td>ZW</td>\n",
       "      <td>101523</td>\n",
       "      <td>1113</td>\n",
       "      <td>405</td>\n",
       "      <td>https://i.ytimg.com/vi/K8P6cqDDRwo/mqdefault.jpg</td>\n",
       "      <td>K8P6cqDDRwo</td>\n",
       "      <td>UC5Cs-mGmXWdteODG5MyOlyw</td>\n",
       "      <td></td>\n",
       "      <td>youtube#video</td>\n",
       "      <td>2025-04-19 00:00:00+00:00</td>\n",
       "    </tr>\n",
       "    <tr>\n",
       "      <th>3</th>\n",
       "      <td>Jah Prayzah - Fambai Neni (Ndini Mukudzeyi Alb...</td>\n",
       "      <td>Jah Prayzah</td>\n",
       "      <td>4</td>\n",
       "      <td>-1</td>\n",
       "      <td>46</td>\n",
       "      <td>2025-04-21</td>\n",
       "      <td>ZW</td>\n",
       "      <td>138370</td>\n",
       "      <td>9078</td>\n",
       "      <td>1101</td>\n",
       "      <td>https://i.ytimg.com/vi/ZtdvF83yLLo/mqdefault.jpg</td>\n",
       "      <td>ZtdvF83yLLo</td>\n",
       "      <td>UCPpVYvHuQSIkQwW1pJhfPrA</td>\n",
       "      <td></td>\n",
       "      <td>youtube#video</td>\n",
       "      <td>2025-04-17 00:00:00+00:00</td>\n",
       "    </tr>\n",
       "    <tr>\n",
       "      <th>4</th>\n",
       "      <td>Sabhuku Vharazipi episode 01</td>\n",
       "      <td>Sabhuku Vharazipi</td>\n",
       "      <td>5</td>\n",
       "      <td>0</td>\n",
       "      <td>45</td>\n",
       "      <td>2025-04-21</td>\n",
       "      <td>ZW</td>\n",
       "      <td>77231</td>\n",
       "      <td>2577</td>\n",
       "      <td>391</td>\n",
       "      <td>https://i.ytimg.com/vi/bOruezUTrvc/mqdefault.jpg</td>\n",
       "      <td>bOruezUTrvc</td>\n",
       "      <td>UCabD9CBL-Bqjzz-xGP6NgDw</td>\n",
       "      <td>Sabhuku Vharazipi</td>\n",
       "      <td>youtube#video</td>\n",
       "      <td>2025-04-16 00:00:00+00:00</td>\n",
       "    </tr>\n",
       "  </tbody>\n",
       "</table>\n",
       "</div>"
      ],
      "text/plain": [
       "                                               title       channel_name  \\\n",
       "0  Donator Calvins - Door Ratovharwa (Mjolo Offic...       Zimcelebs Tv   \n",
       "1              Winky D - Propaganda (Official Video)        winkyonline   \n",
       "2  Blessed Geza Calls For National Shutdown and E...         TechMag TV   \n",
       "3  Jah Prayzah - Fambai Neni (Ndini Mukudzeyi Alb...        Jah Prayzah   \n",
       "4                       Sabhuku Vharazipi episode 01  Sabhuku Vharazipi   \n",
       "\n",
       "   daily_rank  daily_movement  weekly_movement snapshot_date country  \\\n",
       "0           1               1                1    2025-04-21      ZW   \n",
       "1           2              -1               -1    2025-04-21      ZW   \n",
       "2           3               4               47    2025-04-21      ZW   \n",
       "3           4              -1               46    2025-04-21      ZW   \n",
       "4           5               0               45    2025-04-21      ZW   \n",
       "\n",
       "   view_count  like_count  comment_count  \\\n",
       "0      359453        7000            560   \n",
       "1      571176       43730           7781   \n",
       "2      101523        1113            405   \n",
       "3      138370        9078           1101   \n",
       "4       77231        2577            391   \n",
       "\n",
       "                                      thumbnail_url     video_id  \\\n",
       "0  https://i.ytimg.com/vi/Wd3UQcILT78/mqdefault.jpg  Wd3UQcILT78   \n",
       "1  https://i.ytimg.com/vi/UScy08GG_ko/mqdefault.jpg  UScy08GG_ko   \n",
       "2  https://i.ytimg.com/vi/K8P6cqDDRwo/mqdefault.jpg  K8P6cqDDRwo   \n",
       "3  https://i.ytimg.com/vi/ZtdvF83yLLo/mqdefault.jpg  ZtdvF83yLLo   \n",
       "4  https://i.ytimg.com/vi/bOruezUTrvc/mqdefault.jpg  bOruezUTrvc   \n",
       "\n",
       "                 channel_id         video_tags           kind  \\\n",
       "0  UCwx1kRB_tFZZk92EKeaZRdw                     youtube#video   \n",
       "1  UC9iqkdRHEbX7hwEu9D6J8wg                     youtube#video   \n",
       "2  UC5Cs-mGmXWdteODG5MyOlyw                     youtube#video   \n",
       "3  UCPpVYvHuQSIkQwW1pJhfPrA                     youtube#video   \n",
       "4  UCabD9CBL-Bqjzz-xGP6NgDw  Sabhuku Vharazipi  youtube#video   \n",
       "\n",
       "               publish_date  \n",
       "0 2025-04-08 00:00:00+00:00  \n",
       "1 2025-04-04 00:00:00+00:00  \n",
       "2 2025-04-19 00:00:00+00:00  \n",
       "3 2025-04-17 00:00:00+00:00  \n",
       "4 2025-04-16 00:00:00+00:00  "
      ]
     },
     "execution_count": 125,
     "metadata": {},
     "output_type": "execute_result"
    }
   ],
   "source": [
    "data_df.head()"
   ]
  },
  {
   "cell_type": "code",
   "execution_count": 126,
   "id": "164d722f",
   "metadata": {},
   "outputs": [
    {
     "data": {
      "image/png": "[encoded data removed]",
      "text/plain": [
       "<Figure size 1000x500 with 1 Axes>"
      ]
     },
     "metadata": {},
     "output_type": "display_data"
    }
   ],
   "source": [
    "import seaborn as sns\n",
    "import matplotlib.pyplot as plt\n",
    "\n",
    "plt.figure(figsize=(10,5))\n",
    "sns.histplot(data_df['view_count'], bins=100)\n",
    "plt.title('View Count Distribution')\n",
    "plt.xlabel('View Count')\n",
    "plt.ylabel('Frequency')\n",
    "plt.xscale('log')\n",
    "plt.show()"
   ]
  },
  {
   "cell_type": "markdown",
   "id": "f87206fc",
   "metadata": {},
   "source": [
    "# P2: Project with supervised learning"
   ]
  },
  {
   "cell_type": "code",
   "execution_count": 127,
   "id": "e2beb4b6",
   "metadata": {},
   "outputs": [],
   "source": [
    "from sklearn.preprocessing import StandardScaler\n",
    "from sklearn.model_selection import train_test_split\n",
    "from sklearn.preprocessing import OneHotEncoder\n",
    "from sklearn.preprocessing import LabelEncoder"
   ]
  },
  {
   "cell_type": "code",
   "execution_count": 179,
   "id": "3d10aa4f",
   "metadata": {},
   "outputs": [],
   "source": [
    "# Sample a subset of data to reduce computational load for GridSearchCV\n",
    "sample_df = data_df.sample(n=100000, random_state=42).copy()"
   ]
  },
  {
   "cell_type": "code",
   "execution_count": 180,
   "id": "eecd2513",
   "metadata": {},
   "outputs": [],
   "source": [
    "# Extract the week number from publish_date. I use this because trends are usually short-term, so analyzing by week\n",
    "sample_df['week'] = sample_df['publish_date'].dt.isocalendar().week"
   ]
  },
  {
   "cell_type": "code",
   "execution_count": 181,
   "id": "90b7c45f",
   "metadata": {},
   "outputs": [],
   "source": [
    "# For each week, I look at the most common tags (top 10) and use them to define the weekly trending tags.\n",
    "# Even though the 'video_tags' column has quite a lot of missing data, I still decide to use tags instead of titles here.\n",
    "# This is because tags are keywords marked by the creator (or the platform system) and usually give a very focused, clear summary of the video’s main topics.\n",
    "# On the other hand, while the title also contains rich information, the title is going to be used later as an input feature for the model.\n",
    "# If I also use the title to define the target label here, it could lead to overfitting.\n",
    "# So the model might just learn to recognize patterns it has already seen in the labels, not because it generalizes well, but because fed it the answers.\n",
    "top_trend_tags = set()\n",
    "for week, group in sample_df.groupby('week'):\n",
    "    tag_series = group['video_tags'].str.split('|').explode()\n",
    "    top_tags = tag_series.value_counts().head(10).index\n",
    "    top_trend_tags.update(top_tags)"
   ]
  },
  {
   "cell_type": "code",
   "execution_count": 182,
   "id": "4c5d5324",
   "metadata": {},
   "outputs": [],
   "source": [
    "# Check if a video has at least one trending tag.\n",
    "def has_trend_tag(row):\n",
    "    if pd.isna(row['video_tags']):\n",
    "        return 0\n",
    "    return int(any(tag in top_trend_tags for tag in row['video_tags'].split('|') if tag.strip()))"
   ]
  },
  {
   "cell_type": "code",
   "execution_count": 183,
   "id": "f5bfc2f3",
   "metadata": {},
   "outputs": [
    {
     "name": "stdout",
     "output_type": "stream",
     "text": [
      "0    88520\n",
      "1    11480\n",
      "Name: is_trend, dtype: int64\n"
     ]
    }
   ],
   "source": [
    "# Apply the function to get is_trend column (used as binary label for classification).\n",
    "sample_df['is_trend'] = sample_df.apply(has_trend_tag, axis=1)\n",
    "print(sample_df['is_trend'].value_counts())"
   ]
  },
  {
   "cell_type": "code",
   "execution_count": 184,
   "id": "b450d230",
   "metadata": {},
   "outputs": [],
   "source": [
    "# Select numeric features and scale them using StandardScaler.\n",
    "numeric_features = ['daily_rank', 'daily_movement', 'weekly_movement','view_count', 'like_count', 'comment_count']\n",
    "X_numeric = sample_df[numeric_features]\n",
    "scaler = StandardScaler()\n",
    "X_numeric_scaled = scaler.fit_transform(X_numeric)"
   ]
  },
  {
   "cell_type": "code",
   "execution_count": 185,
   "id": "66764092",
   "metadata": {},
   "outputs": [],
   "source": [
    "# The weekday of publishing might also matter, like some videos get more popular on weekends.\n",
    "# I use OneHot since weekday only has a few fixed values.\n",
    "ohe_weekday = OneHotEncoder(sparse_output=False)\n",
    "weekday_ohe = ohe_weekday.fit_transform(sample_df['publish_date'].dt.weekday.values.reshape(-1,1))"
   ]
  },
  {
   "cell_type": "code",
   "execution_count": 186,
   "id": "d0ed0f8a",
   "metadata": {},
   "outputs": [],
   "source": [
    "# Different countries have different watching habits, so I use OneHot encoding for country.\n",
    "ohe_country = OneHotEncoder(sparse_output=False)\n",
    "country_ohe = ohe_country.fit_transform(sample_df[['country']].astype(str))"
   ]
  },
  {
   "cell_type": "code",
   "execution_count": 187,
   "id": "96feb556",
   "metadata": {},
   "outputs": [],
   "source": [
    "# For channel_name, since there are too many unique values, I don’t use OneHot.\n",
    "# Instead I use LabelEncoder to turn them into integers.\n",
    "le_channel = LabelEncoder()\n",
    "channel_encoded = le_channel.fit_transform(sample_df['channel_name'].astype(str)).reshape(-1,1)"
   ]
  },
  {
   "cell_type": "code",
   "execution_count": 188,
   "id": "8cad9e13",
   "metadata": {},
   "outputs": [],
   "source": [
    "# Combine all the features into final X. Then set y using the trend label created before.\n",
    "X = np.hstack([X_numeric_scaled, weekday_ohe, country_ohe, channel_encoded])\n",
    "y = sample_df['is_trend'].values"
   ]
  },
  {
   "cell_type": "code",
   "execution_count": 189,
   "id": "3fca77c7",
   "metadata": {},
   "outputs": [],
   "source": [
    "# Split the dataset into training and testing.\n",
    "X_train, X_test, y_train, y_test = train_test_split(X, y, test_size=0.2, random_state=42, stratify=y)"
   ]
  },
  {
   "cell_type": "markdown",
   "id": "d9cc8e09",
   "metadata": {},
   "source": [
    "### Tree-based model (RandomForest)"
   ]
  },
  {
   "cell_type": "code",
   "execution_count": 190,
   "id": "c276733f",
   "metadata": {},
   "outputs": [],
   "source": [
    "from sklearn.ensemble import RandomForestClassifier\n",
    "from sklearn.metrics import accuracy_score, precision_score, recall_score, f1_score, classification_report\n",
    "from sklearn.model_selection import GridSearchCV\n",
    "from sklearn.ensemble import RandomForestClassifier"
   ]
  },
  {
   "cell_type": "markdown",
   "id": "26f9f3fe",
   "metadata": {},
   "source": [
    "#### GridSearchCV"
   ]
  },
  {
   "cell_type": "code",
   "execution_count": 191,
   "id": "12b362fe",
   "metadata": {},
   "outputs": [
    {
     "name": "stdout",
     "output_type": "stream",
     "text": [
      "Best params from GridSearchCV: {'max_depth': None, 'min_samples_split': 5, 'n_estimators': 200}\n"
     ]
    }
   ],
   "source": [
    "param_grid = {\n",
    "    'n_estimators': [100, 200],\n",
    "    'max_depth': [None, 20],\n",
    "    'min_samples_split': [2, 5]\n",
    "}\n",
    "\n",
    "grid_search = GridSearchCV(\n",
    "    estimator=RandomForestClassifier(random_state=42, n_jobs=-1, class_weight='balanced'),\n",
    "    param_grid=param_grid,\n",
    "    cv=3,\n",
    "    scoring='f1',\n",
    "    n_jobs=-1\n",
    ")\n",
    "\n",
    "grid_search.fit(X_train, y_train)\n",
    "\n",
    "best_model = grid_search.best_estimator_\n",
    "print(\"Best params from GridSearchCV:\", grid_search.best_params_)"
   ]
  },
  {
   "cell_type": "code",
   "execution_count": 192,
   "id": "2bde2558",
   "metadata": {},
   "outputs": [
    {
     "name": "stdout",
     "output_type": "stream",
     "text": [
      "Performance of GridSearch-tuned Random Forest:\n",
      "Accuracy: 0.9359\n",
      "Precision: 0.881203007518797\n",
      "Recall: 0.5104529616724739\n",
      "F1 Score: 0.646442360728075\n",
      "              precision    recall  f1-score   support\n",
      "\n",
      "           0       0.94      0.99      0.96     17704\n",
      "           1       0.88      0.51      0.65      2296\n",
      "\n",
      "    accuracy                           0.94     20000\n",
      "   macro avg       0.91      0.75      0.81     20000\n",
      "weighted avg       0.93      0.94      0.93     20000\n",
      "\n"
     ]
    }
   ],
   "source": [
    "y_pred = best_model.predict(X_test)\n",
    "\n",
    "print(\"Performance of GridSearch-tuned Random Forest:\")\n",
    "print(\"Accuracy:\", accuracy_score(y_test, y_pred))\n",
    "print(\"Precision:\", precision_score(y_test, y_pred))\n",
    "print(\"Recall:\", recall_score(y_test, y_pred))\n",
    "print(\"F1 Score:\", f1_score(y_test, y_pred))\n",
    "print(classification_report(y_test, y_pred))"
   ]
  },
  {
   "cell_type": "markdown",
   "id": "91258125",
   "metadata": {},
   "source": [
    "##### Visualize"
   ]
  },
  {
   "cell_type": "code",
   "execution_count": 193,
   "id": "cbd24e1b",
   "metadata": {},
   "outputs": [],
   "source": [
    "import matplotlib.pyplot as plt"
   ]
  },
  {
   "cell_type": "code",
   "execution_count": 194,
   "id": "11a1ef5a",
   "metadata": {},
   "outputs": [],
   "source": [
    "importances = best_model.feature_importances_"
   ]
  },
  {
   "cell_type": "code",
   "execution_count": 195,
   "id": "7bfbe102",
   "metadata": {},
   "outputs": [],
   "source": [
    "feature_names = (numeric_features +\n",
    "                 ['weekday_' + str(i) for i in range(weekday_ohe.shape[1])] +\n",
    "                 ['country_' + str(i) for i in range(country_ohe.shape[1])] +\n",
    "                 ['channel_encoded'])"
   ]
  },
  {
   "cell_type": "code",
   "execution_count": 196,
   "id": "38194e20",
   "metadata": {},
   "outputs": [
    {
     "data": {
      "image/png": "[encoded data removed]",
      "text/plain": [
       "<Figure size 1200x600 with 1 Axes>"
      ]
     },
     "metadata": {},
     "output_type": "display_data"
    }
   ],
   "source": [
    "indices = np.argsort(importances)[::-1]\n",
    "plt.figure(figsize=(12, 6))\n",
    "plt.title(\"Feature Importances (Random Forest)\")\n",
    "plt.bar(range(20), importances[indices][:20])\n",
    "plt.xticks(range(20), [feature_names[i] for i in indices[:20]], rotation=45, ha='right')\n",
    "plt.tight_layout()\n",
    "plt.show()"
   ]
  },
  {
   "cell_type": "markdown",
   "id": "77b9fb68",
   "metadata": {},
   "source": [
    "The most important features according to the Random Forest are view_count, like_count, channel_encoded, comment_count, and daily_movement. This makes sense because trending prediction is likely driven by content popularity and engagement signals."
   ]
  },
  {
   "cell_type": "markdown",
   "id": "90c5a4b4",
   "metadata": {},
   "source": [
    "##### Error Analysis"
   ]
  },
  {
   "cell_type": "code",
   "execution_count": 197,
   "id": "5c7640d1",
   "metadata": {},
   "outputs": [],
   "source": [
    "y_pred = best_model.predict(X_test)"
   ]
  },
  {
   "cell_type": "code",
   "execution_count": 198,
   "id": "61389c1d",
   "metadata": {},
   "outputs": [],
   "source": [
    "results_rf_df = pd.DataFrame(X_test, columns=feature_names)\n",
    "results_rf_df['true_label'] = y_test\n",
    "results_rf_df['predicted_label'] = y_pred"
   ]
  },
  {
   "cell_type": "code",
   "execution_count": 199,
   "id": "ad6f5220",
   "metadata": {},
   "outputs": [
    {
     "name": "stdout",
     "output_type": "stream",
     "text": [
      "1    1124\n",
      "0     158\n",
      "Name: true_label, dtype: int64\n"
     ]
    }
   ],
   "source": [
    "errors_rf_df = results_rf_df[results_rf_df['true_label'] != results_rf_df['predicted_label']]\n",
    "print(errors_rf_df['true_label'].value_counts())"
   ]
  },
  {
   "cell_type": "code",
   "execution_count": 200,
   "id": "0a034eac",
   "metadata": {},
   "outputs": [],
   "source": [
    "numeric_cols = results_rf_df.select_dtypes(include=['number']).columns\n",
    "numeric_cols = [col for col in numeric_cols if col not in ['true_label', 'predicted_label']]"
   ]
  },
  {
   "cell_type": "code",
   "execution_count": 201,
   "id": "dd479ce1",
   "metadata": {},
   "outputs": [],
   "source": [
    "error_means_rf = errors_rf_df[numeric_cols].mean()\n",
    "overall_means_rf = results_rf_df[numeric_cols].mean()"
   ]
  },
  {
   "cell_type": "code",
   "execution_count": 202,
   "id": "155ad3bd",
   "metadata": {},
   "outputs": [
    {
     "name": "stdout",
     "output_type": "stream",
     "text": [
      "                  error_mean  overall_mean  difference\n",
      "channel_encoded  7586.714509   8051.036600 -464.322091\n",
      "view_count          0.315938     -0.003384    0.319322\n",
      "like_count          0.228868      0.004224    0.224644\n",
      "comment_count       0.094554      0.008850    0.085704\n",
      "daily_movement     -0.068159      0.007522   -0.075680\n",
      "...                      ...           ...         ...\n",
      "country_98          0.009360      0.009200    0.000160\n",
      "country_35          0.009360      0.009250    0.000110\n",
      "country_54          0.007800      0.007900   -0.000100\n",
      "country_36          0.010140      0.010050    0.000090\n",
      "country_60          0.008580      0.008550    0.000030\n",
      "\n",
      "[127 rows x 3 columns]\n"
     ]
    }
   ],
   "source": [
    "mean_diff_rf = pd.DataFrame({\n",
    "    'error_mean': error_means_rf,\n",
    "    'overall_mean': overall_means_rf,\n",
    "    'difference': error_means_rf - overall_means_rf\n",
    "}).sort_values(by='difference', key=abs, ascending=False)\n",
    "\n",
    "print(mean_diff_rf)"
   ]
  },
  {
   "cell_type": "markdown",
   "id": "37c40b6c",
   "metadata": {},
   "source": [
    "In the misclassified samples, most of the errors happen when the true label is 1—that is, the video was actually trending, but the model predicted it as not trending. This shows the model still has more trouble recognizing trending videos than non-trending ones. A likely reason is that the dataset is imbalanced—non-trending videos make up the majority, so the model learns more from those and ends up being less sensitive to the smaller trending class.\n",
    "\n",
    "To deal with this, I added class_weight='balanced' when training the Random Forest. That way, the model gives more weight to trending videos during training and treats their misclassification as a bigger deal.\n",
    "\n",
    "If we look at which features are different between the misclassified samples and the whole test set, the biggest differences are in view_count, like_count, comment_count,daily_movement. These are all engagement-related or visibility-related features. In the misclassified cases, view_count, like_count and comment_count are actually higher than average—which means the model still got it wrong even when the video had good engagement. On the flip side, daily_movement tend to be lower in the errors, suggesting those videos might have had views and likes, but weren’t moving up fast enough in rank to convince the model they were trending.\n",
    "\n",
    "So overall, the model does well with the really obvious trending videos—the ones with both high engagement and strong movement—but it struggles more with “borderline” cases. These are videos that are doing okay in some areas, but not strong enough across the board to trigger a confident prediction. That’s where most of the mistakes seem to come from.\n",
    "\n",
    "One way to keep improving could be to further balance the dataset—for example, by sampling equal numbers of trending and non-trending videos during training. It might also help to add more features that describe trend potential in other ways, especially for those in-between cases that are easy to miss."
   ]
  },
  {
   "cell_type": "markdown",
   "id": "9be7918b",
   "metadata": {},
   "source": [
    "### linear model (LogisticRegression)"
   ]
  },
  {
   "cell_type": "code",
   "execution_count": 203,
   "id": "ae46c49b",
   "metadata": {},
   "outputs": [],
   "source": [
    "from sklearn.linear_model import LogisticRegression"
   ]
  },
  {
   "cell_type": "markdown",
   "id": "f0b4f145",
   "metadata": {},
   "source": [
    "#### GridSearchCV"
   ]
  },
  {
   "cell_type": "code",
   "execution_count": 204,
   "id": "0e8c0272",
   "metadata": {},
   "outputs": [
    {
     "name": "stdout",
     "output_type": "stream",
     "text": [
      "Best LogisticRegression Params: {'C': 0.01, 'penalty': 'l1', 'solver': 'liblinear'}\n"
     ]
    }
   ],
   "source": [
    "param_grid_lr = {\n",
    "    'C': [0.01, 0.1, 1, 10],\n",
    "    'penalty': ['l1', 'l2'],\n",
    "    'solver': ['liblinear']\n",
    "}\n",
    "\n",
    "grid_search_lr = GridSearchCV(\n",
    "    estimator=LogisticRegression(class_weight='balanced', max_iter=1000),\n",
    "    param_grid=param_grid_lr,\n",
    "    scoring='f1',\n",
    "    cv=3,\n",
    "    n_jobs=-1\n",
    ")\n",
    "\n",
    "grid_search_lr.fit(X_train, y_train)\n",
    "\n",
    "best_lr = grid_search_lr.best_estimator_\n",
    "print(\"Best LogisticRegression Params:\", grid_search_lr.best_params_)"
   ]
  },
  {
   "cell_type": "code",
   "execution_count": 205,
   "id": "e411d576",
   "metadata": {},
   "outputs": [
    {
     "name": "stdout",
     "output_type": "stream",
     "text": [
      "Performance of GridSearch-tuned Logistic Regression:\n",
      "Accuracy: 0.8292\n",
      "Precision: 0.354014598540146\n",
      "Recall: 0.5914634146341463\n",
      "F1 Score: 0.4429223744292237\n",
      "              precision    recall  f1-score   support\n",
      "\n",
      "           0       0.94      0.86      0.90     17704\n",
      "           1       0.35      0.59      0.44      2296\n",
      "\n",
      "    accuracy                           0.83     20000\n",
      "   macro avg       0.65      0.73      0.67     20000\n",
      "weighted avg       0.87      0.83      0.85     20000\n",
      "\n"
     ]
    }
   ],
   "source": [
    "y_pred = best_lr.predict(X_test)\n",
    "\n",
    "print(\"Performance of GridSearch-tuned Logistic Regression:\")\n",
    "print(\"Accuracy:\", accuracy_score(y_test, y_pred))\n",
    "print(\"Precision:\", precision_score(y_test, y_pred))\n",
    "print(\"Recall:\", recall_score(y_test, y_pred))\n",
    "print(\"F1 Score:\", f1_score(y_test, y_pred))\n",
    "print(classification_report(y_test, y_pred))"
   ]
  },
  {
   "cell_type": "markdown",
   "id": "a7cfb660",
   "metadata": {},
   "source": [
    "##### Top-n coefficient features"
   ]
  },
  {
   "cell_type": "code",
   "execution_count": 206,
   "id": "bf17f47b",
   "metadata": {},
   "outputs": [],
   "source": [
    "coef = best_lr.coef_.flatten()"
   ]
  },
  {
   "cell_type": "code",
   "execution_count": 207,
   "id": "e82a689d",
   "metadata": {},
   "outputs": [],
   "source": [
    "coef_df = pd.DataFrame({'feature': feature_names, 'coefficient': coef})"
   ]
  },
  {
   "cell_type": "code",
   "execution_count": 208,
   "id": "36bcef5a",
   "metadata": {},
   "outputs": [],
   "source": [
    "filtered_df = coef_df[~coef_df['feature'].str.startswith(('country_', 'weekday_'))]"
   ]
  },
  {
   "cell_type": "code",
   "execution_count": 209,
   "id": "ecf1bda7",
   "metadata": {},
   "outputs": [
    {
     "name": "stdout",
     "output_type": "stream",
     "text": [
      "Top 10 positive coefficients:\n",
      "             feature  coefficient\n",
      "3         view_count     1.302022\n",
      "5      comment_count     0.590992\n",
      "2    weekly_movement     0.004630\n",
      "126  channel_encoded     0.000011\n",
      "1     daily_movement    -0.072461\n",
      "0         daily_rank    -0.146629\n",
      "4         like_count    -0.470432\n"
     ]
    }
   ],
   "source": [
    "top_positive = filtered_df.sort_values(by='coefficient', ascending=False).head(10)\n",
    "print(\"Top 10 positive coefficients:\")\n",
    "print(top_positive)"
   ]
  },
  {
   "cell_type": "markdown",
   "id": "c19ce61b",
   "metadata": {},
   "source": [
    "The top positive coef according are view_count, comment_count, and weekly_movement. This makes sense because trending prediction is likely driven by content popularity and engagement signals."
   ]
  },
  {
   "cell_type": "code",
   "execution_count": 210,
   "id": "d673b097",
   "metadata": {},
   "outputs": [
    {
     "name": "stdout",
     "output_type": "stream",
     "text": [
      "\n",
      "Top 10 negative coefficients:\n",
      "             feature  coefficient\n",
      "4         like_count    -0.470432\n",
      "0         daily_rank    -0.146629\n",
      "1     daily_movement    -0.072461\n",
      "126  channel_encoded     0.000011\n",
      "2    weekly_movement     0.004630\n",
      "5      comment_count     0.590992\n",
      "3         view_count     1.302022\n"
     ]
    }
   ],
   "source": [
    "top_negative = filtered_df.sort_values(by='coefficient', ascending=True).head(10)\n",
    "print(\"\\nTop 10 negative coefficients:\")\n",
    "print(top_negative)"
   ]
  },
  {
   "cell_type": "markdown",
   "id": "0cc9a30d",
   "metadata": {},
   "source": [
    "After training the logistic regression model with GridSearchCV, I looked at the top features with the highest and lowest coefficients. These tell us which features the model thinks are the most helpful for predicting whether a video is trending.\n",
    "\n",
    "The most positively weighted features are view_count, comment_count, and weekly_movement. These are all related to engagement and activity, which makes sense—videos that get a lot of views and comments or have rapid weekly movement are more likely to be trending, so the model gives those features strong positive weights.\n",
    "\n",
    "The most negatively weighted features are like_count, daily_rank, and daily_movement. This means that when these values are lower, the model becomes less confident that a video is trending. One thing that stands out here is that like_count has a negative coefficient. While we’d normally think of likes as a good sign, this might be because some trending videos get a lot of views but not a lot of actual engagement. In some cases, it could even be due to things like view boosting or artificially inflated view counts. That might explain why the model doesn’t treat a high view count with low likes as a strong signal for trending.\n",
    "\n",
    "In short, the model sees high views and comments as strong signals for trending, but it may down-weight likes and certain types of rank-based features if they don’t consistently match trending patterns in the dataset."
   ]
  },
  {
   "cell_type": "markdown",
   "id": "6c5c7c3b",
   "metadata": {},
   "source": [
    "##### Error analysis"
   ]
  },
  {
   "cell_type": "code",
   "execution_count": 211,
   "id": "419f8eec",
   "metadata": {},
   "outputs": [],
   "source": [
    "y_pred = best_lr.predict(X_test)"
   ]
  },
  {
   "cell_type": "code",
   "execution_count": 212,
   "id": "b9d4816b",
   "metadata": {},
   "outputs": [],
   "source": [
    "results_lr_df = pd.DataFrame(X_test, columns=feature_names)\n",
    "results_lr_df['true_label'] = y_test\n",
    "results_lr_df['predicted_label'] = y_pred\n",
    "\n",
    "errors_lr_df = results_lr_df[results_lr_df['true_label'] != results_lr_df['predicted_label']]"
   ]
  },
  {
   "cell_type": "code",
   "execution_count": 213,
   "id": "298d4f6e",
   "metadata": {},
   "outputs": [
    {
     "name": "stdout",
     "output_type": "stream",
     "text": [
      "0    2478\n",
      "1     938\n",
      "Name: true_label, dtype: int64\n"
     ]
    }
   ],
   "source": [
    "print(errors_lr_df['true_label'].value_counts())"
   ]
  },
  {
   "cell_type": "code",
   "execution_count": 214,
   "id": "78adf94e",
   "metadata": {},
   "outputs": [],
   "source": [
    "numeric_cols = results_lr_df.select_dtypes(include=['number']).columns\n",
    "numeric_cols = [col for col in numeric_cols if col not in ['true_label', 'predicted_label']]"
   ]
  },
  {
   "cell_type": "code",
   "execution_count": 215,
   "id": "67fe8e80",
   "metadata": {},
   "outputs": [],
   "source": [
    "error_means_lr = errors_lr_df[numeric_cols].mean()\n",
    "overall_means_lr = results_lr_df[numeric_cols].mean()"
   ]
  },
  {
   "cell_type": "code",
   "execution_count": 216,
   "id": "e9f8c76d",
   "metadata": {},
   "outputs": [
    {
     "name": "stdout",
     "output_type": "stream",
     "text": [
      "                  error_mean  overall_mean  difference\n",
      "channel_encoded  7782.310304   8051.036600 -268.726296\n",
      "view_count          0.970388     -0.003384    0.973773\n",
      "like_count          0.904054      0.004224    0.899831\n",
      "comment_count       0.382527      0.008850    0.373677\n",
      "weekly_movement    -0.169080      0.008343   -0.177424\n",
      "...                      ...           ...         ...\n",
      "country_6           0.007904      0.008200   -0.000296\n",
      "country_90          0.009368      0.009100    0.000268\n",
      "country_79          0.008782      0.008600    0.000182\n",
      "country_1           0.009075      0.009100   -0.000025\n",
      "country_40          0.008489      0.008500   -0.000011\n",
      "\n",
      "[127 rows x 3 columns]\n"
     ]
    }
   ],
   "source": [
    "mean_diff_lr = pd.DataFrame({\n",
    "    'error_mean': error_means_lr,\n",
    "    'overall_mean': overall_means_lr,\n",
    "    'difference': error_means_lr - overall_means_lr\n",
    "}).sort_values(by='difference', key=abs, ascending=False)\n",
    "\n",
    "print(mean_diff_lr)"
   ]
  },
  {
   "cell_type": "markdown",
   "id": "3144394a",
   "metadata": {},
   "source": [
    "After training the logistic regression model using GridSearchCV, most of the misclassified samples still come from the true label = 1 category. This means that many of the videos that actually were trending got predicted as not trending. It suggests the model continues to struggle more with identifying trending videos than non-trending ones.\n",
    "\n",
    "The class_weight='balanced' parameter was used to help reduce the effects of class imbalance during training. But the errors are still mostly concentrated in the minority class, which shows that this strategy only partially helped the model attend to the less frequent label.\n",
    "\n",
    "Looking at the features where the error samples differ most from the overall test set, the biggest differences are in view_count, like_count, and comment_count, all of which are higher on average in the misclassified group. These are typical engagement indicators. So, even when a video had high views and interactions, the model still missed some of them. This suggests that the model is still not handling “borderline” trending videos very well—those that have strong numbers in some areas but don’t check every box.\n",
    "\n",
    "weekly_movement shows up with a lower average in the error group, which could mean that although those videos were performing okay in engagement, they weren’t gaining rank or momentum as quickly. That might explain why the model didn’t classify them as trending.\n",
    "\n",
    "It’s also worth noting that even though like_count seems like it should be a strong positive indicator, it has a negative coefficient in the model. This might be related to videos that gain a lot of views but don’t receive many likes, which could point to patterns like view inflation or low engagement quality. The model may interpret that as a weaker trending signal.\n",
    "\n",
    "So overall, the model can capture some of the more obvious trending patterns, but it still misses many trending videos that aren’t as consistent across all features."
   ]
  },
  {
   "cell_type": "markdown",
   "id": "fe954af5",
   "metadata": {},
   "source": [
    "##### Compare two models"
   ]
  },
  {
   "cell_type": "markdown",
   "id": "bfadb07f",
   "metadata": {},
   "source": [
    "After tuning both models using GridSearchCV, Random Forest still does better overall. Its accuracy is about 0.93, and on the trending class (label = 1), the precision is 0.88, recall is 0.51, and F1 is 0.65. So it's able to catch a good number of trending videos and doesn't make too many wrong positive predictions.\n",
    "\n",
    "Logistic Regression's results are weaker even after tuning. Accuracy is 0.82, and for label = 1, precision is only 0.35, and F1 score is 0.45. The recall is also 0.59, because the precision is much lower, the overall F1 drops. So the model does pick up some trending videos, but it also wrongly predicts a lot of non-trending ones as trending.\n",
    "\n",
    "This probably has to do with how the models work. Logistic Regression is a linear model, so it doesn’t capture complex patterns very well. Random Forest is a non-linear model and does better with this kind of data. Also, Random Forest is an ensemble method, so the final prediction is more stable. Logistic Regression doesn’t have that.\n",
    "\n",
    "Overall, even though both models used class_weight='balanced' and were tuned with cross-validation, Random Forest is still a better fit for this task."
   ]
  },
  {
   "cell_type": "markdown",
   "id": "a3a3db42",
   "metadata": {},
   "source": [
    "# P3: project with unsupervised learning"
   ]
  },
  {
   "cell_type": "markdown",
   "id": "933d6226",
   "metadata": {},
   "source": [
    "In this project, I wanted to understand what kinds of videos are more likely to become trends. Besides using supervised learning to predict trends, unsupervised learning can help me explore the content itself. I wanted to see if videos with similar titles or tags naturally group together—and if some of these groups have more trending videos. It’s not for prediction, but for spotting patterns in the data that might explain why some content performs better. It helped me see if the structure of the content matches with trend behavior."
   ]
  },
  {
   "cell_type": "code",
   "execution_count": 72,
   "id": "85c5de32",
   "metadata": {},
   "outputs": [],
   "source": [
    "import pandas as pd\n",
    "import numpy as np\n",
    "import matplotlib.pyplot as plt\n",
    "import seaborn as sns\n",
    "\n",
    "from sklearn.feature_extraction.text import TfidfVectorizer\n",
    "from sklearn.cluster import KMeans\n",
    "from sklearn.metrics import silhouette_score\n",
    "\n",
    "from gensim import corpora\n",
    "from gensim.models import LdaModel\n",
    "from gensim.parsing.preprocessing import preprocess_string"
   ]
  },
  {
   "cell_type": "markdown",
   "id": "f5a4d163",
   "metadata": {},
   "source": [
    "I used two models for unsupervised learning:\n",
    "\n",
    "KMeans (on video titles):\n",
    "I applied KMeans to cluster video titles after converting them into TF-IDF vectors. I picked titles for KMeans because they’re short and full of keywords—so TF-IDF works well for capturing the main message. Then I looked at which clusters had more trending videos to see if certain title patterns (like style or phrasing) are related to trends.\n",
    "\n",
    "LDA (on video tags):\n",
    "For LDA, I used the video tags instead of titles because tags are more structured and consistent. They’re usually manually added or based on content categories, which makes them a better fit for topic modeling. LDA helped me identify broader themes in the dataset—like music, gaming, or comedy—and evaluate whether certain topics are more trend-prone.\n",
    "\n",
    "So overall, I used titles for KMeans because they’re more free-form and good for vector-based clustering, and tags for LDA because they’re cleaner and work better for identifying latent topics."
   ]
  },
  {
   "cell_type": "markdown",
   "id": "ef89f7aa",
   "metadata": {},
   "source": [
    "### KMeans(Based on title)"
   ]
  },
  {
   "cell_type": "code",
   "execution_count": 159,
   "id": "f20627f8",
   "metadata": {},
   "outputs": [],
   "source": [
    "# Label each video with a binary 'is_trend' flag based on predefined trend tags\n",
    "data_df['is_trend'] = data_df.apply(has_trend_tag, axis=1)"
   ]
  },
  {
   "cell_type": "code",
   "execution_count": 160,
   "id": "58563093",
   "metadata": {},
   "outputs": [],
   "source": [
    "# The full dataset is very large, so I sampled a representative subset to reduce runtime\n",
    "sample_df = data_df.sample(n=100000, random_state=42)"
   ]
  },
  {
   "cell_type": "code",
   "execution_count": 161,
   "id": "635cfe44",
   "metadata": {},
   "outputs": [],
   "source": [
    "# Convert video titles into TF-IDF vectors\n",
    "tfidf_vectorizer = TfidfVectorizer(\n",
    "    stop_words='english',\n",
    "    max_features=2000,\n",
    "    ngram_range=(1, 2)\n",
    ")\n",
    "X_sample_tfidf = tfidf_vectorizer.fit_transform(sample_df['title'].fillna('').astype(str))"
   ]
  },
  {
   "cell_type": "code",
   "execution_count": null,
   "id": "b2665411",
   "metadata": {},
   "outputs": [
    {
     "data": {
      "image/png": "[encoded data removed]",
      "text/plain": [
       "<Figure size 640x480 with 1 Axes>"
      ]
     },
     "metadata": {},
     "output_type": "display_data"
    }
   ],
   "source": [
    "# Use silhouette scores to find a good k \n",
    "sil_scores = []\n",
    "k_range = range(2, 31)\n",
    "\n",
    "for k in k_range:\n",
    "    kmeans = KMeans(n_clusters=k, random_state=42)\n",
    "    kmeans.fit(X_sample_tfidf) \n",
    "    score = silhouette_score(X_sample_tfidf, kmeans.labels_) \n",
    "    sil_scores.append(score)\n",
    "\n",
    "plt.plot(k_range, sil_scores, marker='o')\n",
    "plt.title(\"Silhouette Score for KMeans Clustering\")\n",
    "plt.xlabel(\"Number of Clusters (k)\")\n",
    "plt.ylabel(\"Silhouette Score\")\n",
    "plt.show()"
   ]
  },
  {
   "cell_type": "markdown",
   "id": "5560053f",
   "metadata": {},
   "source": [
    "I looked at silhouette scores for different k values and noticed the score keeps improving until around k=25, after which the gains become very small. So I considered 25 a good point where the clustering structure stabilizes."
   ]
  },
  {
   "cell_type": "code",
   "execution_count": 162,
   "id": "611595a8",
   "metadata": {},
   "outputs": [],
   "source": [
    "# Run KMeans with the selected number of clusters\n",
    "k = 25\n",
    "kmeans = KMeans(n_clusters=k, random_state=42)\n",
    "sample_df['kmeans_cluster'] = kmeans.fit_predict(X_sample_tfidf)"
   ]
  },
  {
   "cell_type": "code",
   "execution_count": 163,
   "id": "2b754d86",
   "metadata": {},
   "outputs": [
    {
     "name": "stdout",
     "output_type": "stream",
     "text": [
      "Cluster 0 - Trend Rate: 0.28, Count: 467\n",
      "Cluster 1 - Trend Rate: 0.13, Count: 73161\n",
      "Cluster 2 - Trend Rate: 0.00, Count: 86\n",
      "Cluster 3 - Trend Rate: 0.01, Count: 205\n",
      "Cluster 4 - Trend Rate: 0.05, Count: 2542\n",
      "Cluster 5 - Trend Rate: 0.02, Count: 807\n",
      "Cluster 6 - Trend Rate: 0.05, Count: 5841\n",
      "Cluster 7 - Trend Rate: 0.01, Count: 1236\n",
      "Cluster 8 - Trend Rate: 0.02, Count: 1103\n",
      "Cluster 9 - Trend Rate: 0.23, Count: 492\n",
      "Cluster 10 - Trend Rate: 0.09, Count: 557\n",
      "Cluster 11 - Trend Rate: 0.07, Count: 1438\n",
      "Cluster 12 - Trend Rate: 0.10, Count: 157\n",
      "Cluster 13 - Trend Rate: 0.10, Count: 368\n",
      "Cluster 14 - Trend Rate: 0.03, Count: 2057\n",
      "Cluster 15 - Trend Rate: 0.00, Count: 329\n",
      "Cluster 16 - Trend Rate: 0.13, Count: 617\n",
      "Cluster 17 - Trend Rate: 0.03, Count: 561\n",
      "Cluster 18 - Trend Rate: 0.20, Count: 389\n",
      "Cluster 19 - Trend Rate: 0.90, Count: 174\n",
      "Cluster 20 - Trend Rate: 0.15, Count: 1055\n",
      "Cluster 21 - Trend Rate: 0.16, Count: 1743\n",
      "Cluster 22 - Trend Rate: 0.07, Count: 3530\n",
      "Cluster 23 - Trend Rate: 0.08, Count: 142\n",
      "Cluster 24 - Trend Rate: 0.12, Count: 943\n"
     ]
    }
   ],
   "source": [
    "# I wanted to understand which clusters are more likely to contain trending videos.\n",
    "# So for each KMeans cluster, I calculated the trend rate (i.e., how many videos in the cluster are labeled as trending)\n",
    "# and the total number of videos. This gives me a basic idea of where trending content is concentrated.\n",
    "for i in range(k):\n",
    "    cluster_data = sample_df[sample_df['kmeans_cluster'] == i]\n",
    "    trend_rate = cluster_data['is_trend'].mean()\n",
    "    print(f\"Cluster {i} - Trend Rate: {trend_rate:.2f}, Count: {len(cluster_data)}\")"
   ]
  },
  {
   "cell_type": "code",
   "execution_count": 164,
   "id": "6efe8fbc",
   "metadata": {},
   "outputs": [
    {
     "name": "stdout",
     "output_type": "stream",
     "text": [
      "Cluster 0 - Trend Rate: 0.28, Count: 467, Score: 1.74\n",
      "Cluster 1 - Trend Rate: 0.13, Count: 73161, Score: 1.41\n",
      "Cluster 2 - Trend Rate: 0.00, Count: 86, Score: 0.00\n",
      "Cluster 3 - Trend Rate: 0.01, Count: 205, Score: 0.08\n",
      "Cluster 4 - Trend Rate: 0.05, Count: 2542, Score: 0.38\n",
      "Cluster 5 - Trend Rate: 0.02, Count: 807, Score: 0.16\n",
      "Cluster 6 - Trend Rate: 0.05, Count: 5841, Score: 0.43\n",
      "Cluster 7 - Trend Rate: 0.01, Count: 1236, Score: 0.09\n",
      "Cluster 8 - Trend Rate: 0.02, Count: 1103, Score: 0.11\n",
      "Cluster 9 - Trend Rate: 0.23, Count: 492, Score: 1.40\n",
      "Cluster 10 - Trend Rate: 0.09, Count: 557, Score: 0.57\n",
      "Cluster 11 - Trend Rate: 0.07, Count: 1438, Score: 0.51\n",
      "Cluster 12 - Trend Rate: 0.10, Count: 157, Score: 0.52\n",
      "Cluster 13 - Trend Rate: 0.10, Count: 368, Score: 0.59\n",
      "Cluster 14 - Trend Rate: 0.03, Count: 2057, Score: 0.25\n",
      "Cluster 15 - Trend Rate: 0.00, Count: 329, Score: 0.00\n",
      "Cluster 16 - Trend Rate: 0.13, Count: 617, Score: 0.86\n",
      "Cluster 17 - Trend Rate: 0.03, Count: 561, Score: 0.18\n",
      "Cluster 18 - Trend Rate: 0.20, Count: 389, Score: 1.20\n",
      "Cluster 19 - Trend Rate: 0.90, Count: 174, Score: 4.66\n",
      "Cluster 20 - Trend Rate: 0.15, Count: 1055, Score: 1.07\n",
      "Cluster 21 - Trend Rate: 0.16, Count: 1743, Score: 1.20\n",
      "Cluster 22 - Trend Rate: 0.07, Count: 3530, Score: 0.54\n",
      "Cluster 23 - Trend Rate: 0.08, Count: 142, Score: 0.42\n",
      "Cluster 24 - Trend Rate: 0.12, Count: 943, Score: 0.85\n"
     ]
    }
   ],
   "source": [
    "# After checking trend rates, I realized that some clusters have very high trend rates but very few videos,\n",
    "# which might not be reliable. So I created a new metric to balance trend rate and sample size:\n",
    "#score = trend_rate * log(video count)\n",
    "# This way, I can highlight clusters that are both high in trend rate and statistically meaningful in size.\n",
    "for i in range(k):\n",
    "    cluster_data = sample_df[sample_df['kmeans_cluster'] == i]\n",
    "    trend_rate = cluster_data['is_trend'].mean()\n",
    "    count = len(cluster_data)\n",
    "    score = trend_rate * np.log1p(count)\n",
    "    print(f\"Cluster {i} - Trend Rate: {trend_rate:.2f}, Count: {count}, Score: {score:.2f}\")"
   ]
  },
  {
   "cell_type": "code",
   "execution_count": 165,
   "id": "0a8a5dc5",
   "metadata": {},
   "outputs": [
    {
     "name": "stdout",
     "output_type": "stream",
     "text": [
      "\n",
      "Cluster 0 top words:\n",
      "['secret', 'built secret', 'built', 'secret shorts', 'room', 'secret vlog', 'shorts', 'vlog', 'glow', 'stick']\n",
      "\n",
      "Cluster 1 top words:\n",
      "['shorts', 'vs', 'funny', 'challenge', 'من', 'bölüm', '000', 'world', 'highlights', '2025']\n",
      "\n",
      "Cluster 2 top words:\n",
      "['для', 'из', 'новостничок', 'но', 'на', 'как', 'от', 'shorts', 'про', 'за']\n",
      "\n",
      "Cluster 3 top words:\n",
      "['days', 'stranded', 'spent', 'city', 'island', 'survived', 'abandoned', '100 days', '100', 'minecraft']\n",
      "\n",
      "Cluster 4 top words:\n",
      "['official video', 'video', 'official', 'ft', 'feat', 'video 2024', '2024', 'desingerica', 'la', 'jennie']\n",
      "\n",
      "Cluster 5 top words:\n",
      "['ft', 'qui', 'prod', 'le', 'official', 'et', 'clip', 'officiel', 'la', 'est']\n",
      "\n",
      "Cluster 6 top words:\n",
      "['la', 'en', 'el', 'los', 'del', 'que', 'mi', 'se', 'en la', 'en el']\n",
      "\n",
      "Cluster 7 top words:\n",
      "['oficial', 'video oficial', 'video', 'la', 'el', 'remix', 'remix video', 'peso', 'yailin la', 'yailin']\n",
      "\n",
      "Cluster 8 top words:\n",
      "['مع', 'تحدي', 'في', 'من', 'فالكونز', 'على', 'مع شباب', 'ابو', 'شباب', 'شباب فالكونز']\n",
      "\n",
      "Cluster 9 top words:\n",
      "['teaser', 'official teaser', 'official', 'teaser trailer', 'trailer', 'mv', 'babymonster', 'movie', 'superman', 'lisa']\n",
      "\n",
      "Cluster 10 top words:\n",
      "['day', '2024', 'day survive', '000 day', 'survive', 'prayer', '10', 'night', '10 000', '000']\n",
      "\n",
      "Cluster 11 top words:\n",
      "['shorts', 'vs', 'family', 'minecraft', 'comedy', 'en', 'funny', 'na', 'man', 'trending']\n",
      "\n",
      "Cluster 12 top words:\n",
      "['work', 'getting', 'makes', 'dream', 'art', 'magic', 'did', 'shorts', 'real', 'doctor']\n",
      "\n",
      "Cluster 13 top words:\n",
      "['trump', 'donald trump', 'donald', 'debate', 'jon', 'daily', 'harris', 'news', '2024', 'election']\n",
      "\n",
      "Cluster 14 top words:\n",
      "['في', 'تحدي', 'العالم', 'من', 'في العالم', 'على', 'يوم', 'كرافت', 'مقلب', 'باور']\n",
      "\n",
      "Cluster 15 top words:\n",
      "['je', 'na', 'da', 'sam', 'shorts', 'ko', 'mon', 'sa', 'mi', 'se']\n",
      "\n",
      "Cluster 16 top words:\n",
      "['ep', 'sub', 'eng', 'amazing digital', 'digital circus', 'circus', 'digital', 'eng sub', 'amazing', 'الحلقة']\n",
      "\n",
      "Cluster 17 top words:\n",
      "['tiktok', 'elsarca', 'beatbox', 'beatbox tiktok', 'tiktok elsarca', 'vs', 'friends', 'shorts', 'joy', 'looks']\n",
      "\n",
      "Cluster 18 top words:\n",
      "['magic', 'magic trick', 'trick', 'shorts', 'leisi crazy', 'leisi', 'shorts leisi', 'watermelon', 'box', 'incredible']\n",
      "\n",
      "Cluster 19 top words:\n",
      "['appliances', 'smart appliances', 'gadgets smart', 'items new', 'items', 'gadgets', 'utensils home', 'utensils', 'appliances kitchen', 'cool items']\n",
      "\n",
      "Cluster 20 top words:\n",
      "['real', 'madrid', 'real madrid', 'laliga', 'resumen', 'barcelona', 'laliga ea', 'ea sports', 'sports', 'fc']\n",
      "\n",
      "Cluster 21 top words:\n",
      "['music', 'music video', 'official music', 'video', 'official', 'feat', 'ft', 'video 2024', 'lisa', 'rose']\n",
      "\n",
      "Cluster 22 top words:\n",
      "['2024', 'highlights', 'vs', 'movie', 'live', 'new', '2024 25', '25', 'مباراة', 'الجولة']\n",
      "\n",
      "Cluster 23 top words:\n",
      "['eliminatorias sudamericanas', 'sudamericanas', 'eliminatorias', 'fecha', 'sudamericanas fecha', 'resumen eliminatorias', 'argentina', 'resumen', 'vs', 'brasil']\n",
      "\n",
      "Cluster 24 top words:\n",
      "['trailer', 'official trailer', 'official', 'gameplay', 'chapter', 'reveal', 'season', 'launch', 'hd', 'fortnite']\n"
     ]
    }
   ],
   "source": [
    "# After identifying clusters with higher trend scores,\n",
    "# I wanted to examine the top TF-IDF terms that define each cluster.\n",
    "# This helps interpret what kinds of titles dominate each group — for example, \n",
    "# whether they're defined by language, content type (\"shorts\", \"vlog\", etc.), or theme (\"funny\", \"game\", etc.).\n",
    "# It also lets me cross-check if the high-trend clusters are semantically meaningful or just noise.\n",
    "\n",
    "# I empirically consider clusters with score > 1.0 as trend clusters,\n",
    "# because they combine relatively high trend rate and reliable sample size.\n",
    "terms = tfidf_vectorizer.get_feature_names_out()\n",
    "centroids = kmeans.cluster_centers_\n",
    "\n",
    "for i in range(k):\n",
    "    top_terms = centroids[i].argsort()[::-1][:10]\n",
    "    print(f\"\\nCluster {i} top words:\")\n",
    "    print([terms[j] for j in top_terms])"
   ]
  },
  {
   "cell_type": "code",
   "execution_count": 166,
   "id": "01b0294e",
   "metadata": {},
   "outputs": [
    {
     "data": {
      "image/png": "[encoded data removed]",
      "text/plain": [
       "<Figure size 640x480 with 1 Axes>"
      ]
     },
     "metadata": {},
     "output_type": "display_data"
    }
   ],
   "source": [
    "# here I pick Cluster 19\n",
    "# The word cloud shows words like \"appliances\", \"gadgets\", \"smart\", and \"home\"\n",
    "# suggest it's about product or item sharing—maybe like home goods or shopping content.\n",
    "from wordcloud import WordCloud\n",
    "\n",
    "i = 19\n",
    "top_terms = centroids[i].argsort()[::-1][:30]\n",
    "words = {terms[j]: centroids[i][j] for j in top_terms}\n",
    "\n",
    "wc = WordCloud(background_color='white').generate_from_frequencies(words)\n",
    "plt.imshow(wc, interpolation='bilinear')\n",
    "plt.axis(\"off\")\n",
    "plt.title(f\"Cluster {i} WordCloud\")\n",
    "plt.show()"
   ]
  },
  {
   "cell_type": "code",
   "execution_count": null,
   "id": "f2be3806",
   "metadata": {},
   "outputs": [
    {
     "name": "stdout",
     "output_type": "stream",
     "text": [
      "['Cool Items!🥰 New Gadgets, Smart Appliances, Kitchen Tools Utensils, Home Cleaning, Beauty #shorts', 'Cool Items!🥰 New Gadgets, Smart Appliances, Kitchen Tools Utensils, Home Cleaning, Beauty #shorts', 'Cool Items!🥰 New Gadgets, Smart Appliances, Kitchen Tools Utensils, Home Cleaning, Beauty #shorts', 'Cool Items!🥰 New Gadgets, Smart Appliances, Kitchen Tools Utensils, Home Cleaning, Beauty #shorts', 'Cool Items!🥰 New Gadgets, Smart Appliances, Kitchen Tools Utensils, Home Cleaning, Beauty #shorts', 'Cool Items!🥰 New Gadgets, Smart Appliances, Kitchen Tools Utensils, Home Cleaning, Beauty #shorts', 'Cool Items!🥰 New Gadgets, Smart Appliances, Kitchen Tools Utensils, Home Cleaning, Beauty #shorts', 'Cool Items!🥰 New Gadgets, Smart Appliances, Kitchen Tools Utensils, Home Cleaning, Beauty #shorts', 'Cool Items!🥰 New Gadgets, Smart Appliances, Kitchen Tools Utensils, Home Cleaning, Beauty #shorts', 'Cool Items!🥰 New Gadgets, Smart Appliances, Kitchen Tools Utensils, Home Cleaning, Beauty #shorts']\n"
     ]
    }
   ],
   "source": [
    "# To validate the word cloud, I checked actual titles in Cluster 19.\n",
    "# Many titles mention \"appliances\", \"smart\", \"kitchen\" which matches the top words.\n",
    "cluster_19_titles = sample_df[sample_df['kmeans_cluster'] == 19]['title']\n",
    "print(cluster_19_titles.sample(10).tolist())"
   ]
  },
  {
   "cell_type": "markdown",
   "id": "fe293bdd",
   "metadata": {},
   "source": [
    "#### Evaluate and interprete the model performance"
   ]
  },
  {
   "cell_type": "markdown",
   "id": "282ce82f",
   "metadata": {},
   "source": [
    "For KMeans, I used both the trend rate and a score metric (trend rate × log of video count) to evaluate the clusters. The score helped me balance how “viral” a cluster was and how trustworthy that signal was, based on how many videos it included. Cluster 19 ended up with the highest score. When I looked at the keywords and example titles, I found that this cluster was mostly about product-related videos like “smart appliances”, “gadgets”, “home cleaning”, and other household items. I didn’t expect this type of content to stand out, but the model grouped them together and they turned out to have a higher chance of trending. So I think KMeans actually helped me discover a content pattern: short videos that share practical items or small gadgets tend to perform well."
   ]
  },
  {
   "cell_type": "markdown",
   "id": "a5072c9b",
   "metadata": {},
   "source": [
    "### LDA(Based on tag)"
   ]
  },
  {
   "cell_type": "code",
   "execution_count": 140,
   "id": "bfb1ad00",
   "metadata": {},
   "outputs": [],
   "source": [
    "sample_df = data_df.sample(n=100000, random_state=42)"
   ]
  },
  {
   "cell_type": "code",
   "execution_count": 145,
   "id": "43718a66",
   "metadata": {},
   "outputs": [],
   "source": [
    "# Re-add the binary trend label so LDA results can be evaluated\n",
    "sample_df['is_trend'] = sample_df.apply(has_trend_tag, axis=1)"
   ]
  },
  {
   "cell_type": "code",
   "execution_count": 141,
   "id": "94a04bf7",
   "metadata": {},
   "outputs": [],
   "source": [
    "# Clean and tokenize video_tags\n",
    "processed_tags = sample_df['video_tags'].apply(lambda x: preprocess_string(x))\n",
    "dictionary = corpora.Dictionary(processed_tags)\n",
    "corpus = [dictionary.doc2bow(text) for text in processed_tags]"
   ]
  },
  {
   "cell_type": "markdown",
   "id": "cd73f700",
   "metadata": {},
   "source": [
    "For LDA, I set the number of topics to 7. There’s no fixed rule for picking this number, so I just tried a few values and picked the one that gave me the most interpretable results."
   ]
  },
  {
   "cell_type": "code",
   "execution_count": 142,
   "id": "6e7c6afb",
   "metadata": {},
   "outputs": [
    {
     "name": "stdout",
     "output_type": "stream",
     "text": [
      "(0, '0.013*\"minecraft\" + 0.012*\"video\" + 0.007*\"music\" + 0.005*\"argentina\" + 0.005*\"lo\" + 0.004*\"vivo\" + 0.004*\"rivera\" + 0.004*\"del\" + 0.004*\"español\" + 0.004*\"nuevo\"')\n",
      "(1, '0.033*\"movi\" + 0.020*\"new\" + 0.012*\"song\" + 0.009*\"trailer\" + 0.008*\"latest\" + 0.008*\"fortnit\" + 0.007*\"game\" + 0.006*\"ibai\" + 0.005*\"live\" + 0.005*\"highlight\"')\n",
      "(2, '0.016*\"highlight\" + 0.016*\"madrid\" + 0.015*\"real\" + 0.011*\"leagu\" + 0.010*\"sport\" + 0.009*\"footbal\" + 0.009*\"resumen\" + 0.009*\"citi\" + 0.007*\"skibidi\" + 0.007*\"bölüm\"')\n",
      "(3, '0.013*\"fede\" + 0.012*\"كرافت\" + 0.011*\"ماين\" + 0.008*\"تحدي\" + 0.006*\"clash\" + 0.006*\"باور\" + 0.006*\"شيرين\" + 0.006*\"poppi\" + 0.005*\"jenni\" + 0.005*\"رمضان\"')\n",
      "(4, '0.011*\"مباراة\" + 0.010*\"sport\" + 0.009*\"الاهلي\" + 0.009*\"game\" + 0.007*\"brawl\" + 0.007*\"mobil\" + 0.007*\"star\" + 0.006*\"big\" + 0.006*\"brother\" + 0.005*\"royal\"')\n",
      "(5, '0.034*\"funni\" + 0.031*\"video\" + 0.030*\"short\" + 0.015*\"tiktok\" + 0.015*\"famili\" + 0.013*\"comedi\" + 0.011*\"prank\" + 0.009*\"meme\" + 0.009*\"game\" + 0.009*\"life\"')\n",
      "(6, '0.028*\"new\" + 0.014*\"music\" + 0.011*\"natok\" + 0.009*\"eagl\" + 0.009*\"gta\" + 0.008*\"live\" + 0.007*\"ben\" + 0.006*\"video\" + 0.006*\"thuật\" + 0.005*\"bangla\"')\n"
     ]
    }
   ],
   "source": [
    "# Train an LDA topic model using the Gensim library\n",
    "lda = LdaModel(corpus=corpus, id2word=dictionary, num_topics=7, random_state=42, passes=10)\n",
    "topics = lda.print_topics(num_words=10)\n",
    "for topic in topics:\n",
    "    print(topic)"
   ]
  },
  {
   "cell_type": "code",
   "execution_count": 143,
   "id": "2aad0032",
   "metadata": {},
   "outputs": [],
   "source": [
    "# Assign each video its dominant topic\n",
    "# I used the most probable topic for each document to classify its semantic category\n",
    "def get_main_topic(bow):\n",
    "    topics = lda.get_document_topics(bow)\n",
    "    return sorted(topics, key=lambda x: x[1], reverse=True)[0][0] if topics else -1\n",
    "\n",
    "sample_df['lda_topic'] = [get_main_topic(doc) for doc in corpus]"
   ]
  },
  {
   "cell_type": "code",
   "execution_count": 146,
   "id": "89d3aa7a",
   "metadata": {},
   "outputs": [
    {
     "name": "stdout",
     "output_type": "stream",
     "text": [
      "Topic 0 - Trend Rate: 0.03, Count: 45764\n",
      "Topic 1 - Trend Rate: 0.19, Count: 9341\n",
      "Topic 2 - Trend Rate: 0.16, Count: 8728\n",
      "Topic 3 - Trend Rate: 0.10, Count: 7511\n",
      "Topic 4 - Trend Rate: 0.19, Count: 8532\n",
      "Topic 5 - Trend Rate: 0.27, Count: 11366\n",
      "Topic 6 - Trend Rate: 0.17, Count: 8758\n"
     ]
    }
   ],
   "source": [
    "# Calculate trend rate for each LDA topic\n",
    "for i in range(7):\n",
    "    topic_data = sample_df[sample_df['lda_topic'] == i]\n",
    "    trend_ratio = topic_data['is_trend'].mean()\n",
    "    print(f\"Topic {i} - Trend Rate: {trend_ratio:.2f}, Count: {len(topic_data)}\")"
   ]
  },
  {
   "cell_type": "code",
   "execution_count": 147,
   "id": "3425ce73",
   "metadata": {},
   "outputs": [
    {
     "name": "stdout",
     "output_type": "stream",
     "text": [
      "Topic 0 - Trend Rate: 0.03, Count: 45764, Score: 0.28\n",
      "Topic 1 - Trend Rate: 0.19, Count: 9341, Score: 1.71\n",
      "Topic 2 - Trend Rate: 0.16, Count: 8728, Score: 1.46\n",
      "Topic 3 - Trend Rate: 0.10, Count: 7511, Score: 0.92\n",
      "Topic 4 - Trend Rate: 0.19, Count: 8532, Score: 1.70\n",
      "Topic 5 - Trend Rate: 0.27, Count: 11366, Score: 2.54\n",
      "Topic 6 - Trend Rate: 0.17, Count: 8758, Score: 1.57\n"
     ]
    }
   ],
   "source": [
    "# Compute a trend score (trend_rate * log(video count)) for each topic\n",
    "for i in range(7):\n",
    "    topic_data = sample_df[sample_df['lda_topic'] == i]\n",
    "    trend_rate = topic_data['is_trend'].mean()\n",
    "    count = len(topic_data)\n",
    "    score = trend_rate * np.log1p(count)\n",
    "    print(f\"Topic {i} - Trend Rate: {trend_rate:.2f}, Count: {count}, Score: {score:.2f}\")"
   ]
  },
  {
   "cell_type": "code",
   "execution_count": 155,
   "id": "d18a599c",
   "metadata": {},
   "outputs": [
    {
     "data": {
      "image/png": "[encoded data removed]",
      "text/plain": [
       "<Figure size 640x480 with 1 Axes>"
      ]
     },
     "metadata": {},
     "output_type": "display_data"
    }
   ],
   "source": [
    "# Generate a word cloud for high-score topics using LDA weights\n",
    "topic_id = 5\n",
    "terms_weights = dict(lda.show_topic(topic_id, topn=30))\n",
    "\n",
    "wc = WordCloud(background_color='white').generate_from_frequencies(terms_weights)\n",
    "plt.imshow(wc, interpolation='bilinear')\n",
    "plt.axis('off')\n",
    "plt.title(f\"Topic {topic_id} WordCloud\")\n",
    "plt.show()"
   ]
  },
  {
   "cell_type": "code",
   "execution_count": 151,
   "id": "c1c51ed5",
   "metadata": {},
   "outputs": [
    {
     "name": "stdout",
     "output_type": "stream",
     "text": [
      "['Wait! Treat Spiders To A Delicious Feast😄🕷️ #catvideos #catmemes #trending', 'Squid Game Premium 🦑 | #datminhtran #tradang #shots #viralvideo #squidgame #funny #challenge', '🦑Puff joins the Squid Game craze! Can he outsmart the competition? #PuffPlays #SquidGameChallenge', 'Troll mẹ ăn lựu giả máu gặp mẹ kiểu#shorts', 'Cool kitchen appliance for dispensing toothpicks! Fun gadgets by SMOL WOW', 'स्मार्ट शौचालय सीट कवर। अपनी सीट गर्म रखें! ठंडी और स्मार्ट दैनिक गैजेट  #smol', 'أداة ذكية مثالية لتسهيل تدريب استخدام القعادة! 🍼🚼', 'CUTE soap gadget 🧼 Your little ones will love it! #shorts', 'MATTHY EN RUSSO OVERLEVEN 24 UUR OP SZIGET', 'Wham! - Last Christmas (British Sign Language - Official Video)']\n"
     ]
    }
   ],
   "source": [
    "# Inspect representative titles from high-score topics\n",
    "topic_5_titles = sample_df[sample_df['lda_topic'] == 5]['title']\n",
    "print(topic_5_titles.sample(10).tolist())"
   ]
  },
  {
   "cell_type": "markdown",
   "id": "d7b0c027",
   "metadata": {},
   "source": [
    "##### pyLDAvis"
   ]
  },
  {
   "cell_type": "code",
   "execution_count": 152,
   "id": "5bb491e4",
   "metadata": {},
   "outputs": [],
   "source": [
    "import pyLDAvis\n",
    "import pyLDAvis.gensim_models as gensimvis"
   ]
  },
  {
   "cell_type": "code",
   "execution_count": 153,
   "id": "0493aedf",
   "metadata": {},
   "outputs": [
    {
     "name": "stderr",
     "output_type": "stream",
     "text": [
      "c:\\Users\\lixin\\ana\\Lib\\site-packages\\pyLDAvis\\_prepare.py:244: FutureWarning: In a future version of pandas all arguments of DataFrame.drop except for the argument 'labels' will be keyword-only.\n",
      "  by='saliency', ascending=False).head(R).drop('saliency', 1)\n"
     ]
    }
   ],
   "source": [
    "pyldavis_data = pyLDAvis.gensim_models.prepare(lda, corpus, dictionary)"
   ]
  },
  {
   "cell_type": "code",
   "execution_count": 154,
   "id": "616f0850",
   "metadata": {},
   "outputs": [
    {
     "data": {
      "text/html": [
       "\n",
       "<link rel=\"stylesheet\" type=\"text/css\" href=\"https://cdn.jsdelivr.net/gh/bmabey/pyLDAvis@3.4.0/pyLDAvis/js/ldavis.v1.0.0.css\">\n",
       "\n",
       "\n",
       "<div id=\"ldavis_el2098827916194819365450792858\" style=\"background-color:white;\"></div>\n",
       "<script type=\"text/javascript\">\n",
       "\n",
       "var ldavis_el2098827916194819365450792858_data = {\"mdsDat\": {\"x\": [-0.19047751125090961, -0.10345841136383349, -0.17427873224780588, 0.05163628003034238, -0.07377786813126294, 0.26023029306983175, 0.23012594989363813], \"y\": [-0.07752571423230423, -0.19830014608617783, 0.00893866270098478, 0.2830357981569584, 0.1252357513053846, -0.21804113343377296, 0.0766567815889274], \"topics\": [1, 2, 3, 4, 5, 6, 7], \"cluster\": [1, 1, 1, 1, 1, 1, 1], \"Freq\": [17.205266814690535, 16.928281791770125, 13.656155917920543, 13.639773807080891, 13.504860614621455, 12.98390996387973, 12.081751090036734]}, \"tinfo\": {\"Term\": [\"funni\", \"movi\", \"short\", \"new\", \"video\", \"madrid\", \"real\", \"tiktok\", \"famili\", \"prank\", \"highlight\", \"music\", \"\\u0643\\u0631\\u0627\\u0641\\u062a\", \"comedi\", \"sport\", \"fede\", \"\\u0645\\u0627\\u064a\\u0646\", \"minecraft\", \"natok\", \"song\", \"\\u0645\\u0628\\u0627\\u0631\\u0627\\u0629\", \"resumen\", \"meme\", \"eagl\", \"leagu\", \"\\u0627\\u0644\\u0627\\u0647\\u0644\\u064a\", \"footbal\", \"trailer\", \"gta\", \"life\", \"funni\", \"prank\", \"hack\", \"kind\", \"vector\", \"food\", \"laugh\", \"fail\", \"cat\", \"panda\", \"dii\", \"good\", \"fun\", \"compil\", \"peopl\", \"try\", \"cool\", \"act\", \"street\", \"dog\", \"help\", \"vine\", \"recip\", \"homeless\", \"tip\", \"gadget\", \"\\u0628\\u0643\\u062c\\u0627\\u062a\", \"random\", \"idea\", \"dazn\", \"meme\", \"short\", \"life\", \"moment\", \"comedi\", \"famili\", \"tiktok\", \"viral\", \"stori\", \"video\", \"boi\", \"challeng\", \"anim\", \"tik\", \"best\", \"tok\", \"vlog\", \"youtub\", \"game\", \"vivo\", \"rivera\", \"nuevo\", \"que\", \"musica\", \"juego\", \"ryan\", \"stoke\", \"twin\", \"latin\", \"nueva\", \"lexi\", \"broma\", \"ofici\", \"feid\", \"trap\", \"azelart\", \"reggaeton\", \"brent\", \"letra\", \"hip\", \"historia\", \"milo\", \"jeremi\", \"cancion\", \"masterchef\", \"para\", \"cita\", \"remix\", \"trahan\", \"noticia\", \"reto\", \"minecraft\", \"lo\", \"espa\\u00f1ol\", \"argentina\", \"del\", \"mexico\", \"rap\", \"music\", \"video\", \"mrbeast\", \"pop\", \"vlog\", \"ben\", \"youtub\", \"natok\", \"eagl\", \"gta\", \"thu\\u1eadt\", \"bangla\", \"phim\", \"superhero\", \"trump\", \"comic\", \"\\u0111i\\u1ec7n\", \"\\u1ea3nh\", \"dancehal\", \"ishowspe\", \"di\\u1ec5n\", \"blackpink\", \"scari\", \"vi\\u00ean\", \"\\u0627\\u0644\\u0639\\u064a\\u062f\", \"crash\", \"rose\", \"elect\", \"coch\", \"bangladesh\", \"miss\", \"hu\\u1ea5n\", \"luy\\u1ec7n\", \"camilo\", \"ph\\u01b0\\u01a1ng\", \"marvel\", \"smackdown\", \"nam\", \"olymp\", \"cricket\", \"new\", \"music\", \"ben\", \"wwe\", \"africa\", \"bad\", \"live\", \"auto\", \"album\", \"channel\", \"world\", \"bunni\", \"video\", \"offici\", \"tiktok\", \"youtub\", \"short\", \"madrid\", \"resumen\", \"b\\u00f6l\\u00fcm\", \"nigerian\", \"barcelona\", \"copa\", \"yeni\", \"espn\", \"dizi\", \"chelsea\", \"titan\", \"liga\", \"laliga\", \"nollywood\", \"dizisi\", \"liverpool\", \"\\u043a\\u0430\\u043c\\u0435\\u0434\\u0438\", \"uefa\", \"gole\", \"agt\", \"skz\", \"canada\", \"item\", \"\\uc2a4\\ud0a4\\uc988\", \"nrl\", \"essenti\", \"valencia\", \"mbapp\", \"\\u043a\\u043b\\u0430\\u0431\", \"banban\", \"citi\", \"skibidi\", \"gol\", \"toilet\", \"footbal\", \"real\", \"champion\", \"leagu\", \"soccer\", \"highlight\", \"premier\", \"goal\", \"got\", \"america\", \"product\", \"sport\", \"man\", \"home\", \"manchest\", \"trailer\", \"ibai\", \"tamil\", \"ufc\", \"african\", \"digit\", \"eurovis\", \"serial\", \"pokemon\", \"date\", \"harmon\", \"black\", \"rashford\", \"\\u0631\\u0627\\u0645\\u0632\", \"ariana\", \"\\u0642\\u0631\\u0627\\u0646\\u062f\", \"ngannou\", \"bt\", \"vijai\", \"gang\", \"spark\", \"utd\", \"let\", \"furi\", \"pierd\", \"kabhi\", \"gaspi\", \"german\", \"\\u043d\\u043e\\u0432\\u0438\\u043d\\u0438\", \"chow\", \"movi\", \"song\", \"latest\", \"fight\", \"\\u063a\\u0632\\u0629\", \"fortnit\", \"podcast\", \"teaser\", \"film\", \"free\", \"david\", \"episod\", \"new\", \"india\", \"box\", \"interview\", \"king\", \"unit\", \"drama\", \"art\", \"ronaldo\", \"game\", \"live\", \"highlight\", \"season\", \"gameplai\", \"stream\", \"\\u0643\\u0631\\u0627\\u0641\\u062a\", \"\\u0645\\u0627\\u064a\\u0646\", \"clash\", \"\\u0628\\u0627\\u0648\\u0631\", \"\\u0634\\u064a\\u0631\\u064a\\u0646\", \"poppi\", \"jenni\", \"\\u0631\\u0645\\u0636\\u0627\\u0646\", \"\\u0646\\u0627\\u0631\\u064a\\u0646\", \"clan\", \"playtim\", \"vigevani\", \"vecino\", \"\\u0646\\u0648\\u0631\", \"\\u0645\\u0633\\u0644\\u0633\\u0644\", \"\\u0627\\u062d\\u0645\\u062f\", \"\\u063a\\u064a\\u062b\", \"\\u0633\\u062a\\u0627\\u0631\\u0632\", \"\\u0628\\u064a\\u0648\\u062a\\u064a\", \"\\u0639\\u0627\\u0626\\u0644\\u0629\", \"\\u0627\\u062e\\u0628\\u0627\\u0631\", \"payaso\", \"tini\", \"\\u0645\\u0642\\u0627\\u0644\\u0628\", \"\\u0627\\u0646\\u0633\", \"\\u0633\\u0627\\u0631\\u0629\", \"alfa\", \"\\u062e\\u0634\\u0628\", \"\\u0641\\u0644\\u0645\", \"chapter\", \"ian\", \"fede\", \"\\u062a\\u062d\\u062f\\u064a\", \"\\u062a\\u062d\\u062f\\u064a\\u0627\\u062a\", \"\\u0642\\u0646\\u0627\\u0629\", \"skabech\", \"power\", \"\\u0627\\u0628\\u0648\", \"star\", \"video\", \"\\u0645\\u0628\\u0627\\u0631\\u0627\\u0629\", \"\\u0627\\u0644\\u0627\\u0647\\u0644\\u064a\", \"brawl\", \"biker\", \"\\u0627\\u0644\\u062f\\u0648\\u0631\\u064a\", \"\\u0641\\u0648\\u0631\\u062a\", \"fifa\", \"\\u0645\\u0644\\u062e\\u0635\", \"\\u0628\\u0644\\u0633\", \"\\u0627\\u0647\\u062f\\u0627\\u0641\", \"\\u0627\\u0644\\u0623\\u0647\\u0644\\u064a\", \"\\u0627\\u0644\\u0632\\u0645\\u0627\\u0644\\u0643\", \"\\u0643\\u0648\\u0631\\u0629\", \"vip\", \"\\u0628\\u0628\\u062c\\u064a\", \"supercel\", \"arsen\", \"\\u0627\\u0644\\u0645\\u0635\\u0631\\u064a\", \"kosova\", \"pakistani\", \"\\u0646\\u0627\\u064a\\u062a\", \"albania\", \"\\u0641\\u0648\\u0631\\u062a\\u0646\\u0627\\u064a\\u062a\", \"nba\", \"motorcycl\", \"shqip\", \"\\u062f\\u0648\\u0631\\u064a\", \"modern\", \"\\u0628\\u0631\\u0634\\u0644\\u0648\\u0646\\u0629\", \"\\u0627\\u0644\\u0647\\u0644\\u0627\\u0644\", \"mobil\", \"brother\", \"royal\", \"big\", \"battl\", \"star\", \"sport\", \"\\u0645\\u0628\\u0627\\u0634\\u0631\", \"game\", \"\\u0645\\u0635\\u0631\", \"\\u0627\\u0644\\u064a\\u0648\\u0645\", \"roblox\", \"\\u0645\\u062d\\u0645\\u062f\", \"\\u0627\\u0628\\u0648\", \"live\"], \"Freq\": [13105.0, 10126.0, 12441.0, 15564.0, 19705.0, 4745.0, 5434.0, 6977.0, 6782.0, 4367.0, 7221.0, 7660.0, 3584.0, 5799.0, 5725.0, 4378.0, 3249.0, 5893.0, 3229.0, 3968.0, 2830.0, 2778.0, 3352.0, 2726.0, 4341.0, 2507.0, 3231.0, 2638.0, 2652.0, 3413.0, 13104.571081223026, 4366.323182945255, 2874.4219519310823, 2418.1702211015595, 2343.3958635653016, 2068.995646268094, 1665.3973951226944, 1642.7695019414568, 1640.5294580672446, 1591.5166721107232, 1590.7558823604945, 1506.9359872235757, 1440.4114324265015, 1240.6904294873445, 1191.985036023406, 1134.9107774692368, 1067.0109146933426, 1027.5482808574147, 999.6557688424015, 926.570780691907, 907.3599503100538, 890.4152170278471, 885.1724722331735, 853.8814814601265, 850.7566060285833, 957.3994823214946, 826.1385309645012, 825.5538005533858, 795.6548345044889, 762.4719171868401, 3272.509901437671, 11487.442221214238, 3246.4570316786744, 2224.4199416486517, 5067.629062482991, 5667.638223154502, 5692.322098173607, 3103.6960265609796, 1882.8475735105515, 11651.54659768851, 1897.7825627611235, 3099.2184285405833, 3232.515977424369, 1763.4105183955983, 2396.540175346346, 1665.1418423244058, 2391.143512008236, 2523.758697574671, 3247.0719945015567, 1669.139974010281, 1611.3557931213836, 1463.6333744313533, 1415.6747247229357, 1394.1644683320196, 1378.3975825908892, 1321.9748801027347, 1233.541949933216, 1112.8067592522552, 1106.8325969290881, 1048.5287410819326, 1043.4480872349761, 1020.8404768034151, 1009.2222419916784, 961.8379468457125, 948.28842841385, 929.4803068311427, 893.2222175465358, 868.5415939607786, 845.9709031979693, 827.750084307987, 783.7141931481174, 778.4482410584687, 755.9449155680262, 738.8695687703794, 724.8338830417089, 695.9813368870131, 692.5856897228933, 691.9728407190889, 680.8597142190532, 1235.1230216244012, 1034.2761741711877, 4759.922011052062, 1787.713701809302, 1509.4156884054903, 1789.8798890090445, 1549.8269779625598, 1123.0629907390487, 1326.9480994633711, 2791.158103128711, 4643.845172698948, 947.048032528634, 1188.178875420354, 1079.7727544056495, 1019.3188965215927, 1020.5611296415096, 3228.438838816149, 2725.4631759835925, 2651.397517217726, 1707.4335066082638, 1410.8848950304437, 1306.2238426732051, 1134.8669552318763, 1131.968020057356, 907.1584379827548, 900.5531003827904, 886.102393752154, 750.4629284196811, 697.070082770657, 682.467989263591, 680.4666476995283, 667.5624868139744, 653.0869372087443, 645.4427115803213, 639.5948023989316, 627.6923356565783, 618.7924105850618, 575.0485903835093, 541.2748487300711, 542.5602256470754, 531.7424158792716, 531.7424158792716, 522.7408251688288, 510.5970216320927, 504.37050410636425, 500.1788167567571, 861.0326564387784, 948.2749724677717, 770.1751229933607, 8401.370046628974, 4147.687618536621, 2051.5541560805477, 681.3415156343634, 610.6684755864327, 1075.0849482078313, 2567.4567760509135, 921.6434448567221, 1136.5791443331268, 976.7495382564823, 989.0216148225475, 753.4887603791994, 1888.7064814739454, 953.3486559920832, 966.3013030240741, 868.9432382777587, 953.3760397254421, 4744.200218358248, 2777.5473498311417, 2247.436474180605, 1928.692098029095, 1855.103277227461, 1593.2149025260128, 1579.7660219806703, 1452.3369870901583, 1338.704922081381, 1324.4099969399717, 1233.4663356639783, 1155.612116390139, 961.0319396461518, 929.2239900549143, 859.6685081678908, 817.2890191679759, 761.3722526952506, 701.9153091137877, 675.4381031022672, 663.1151202646716, 661.0540761137133, 663.1342235879123, 613.5532751700516, 595.1282256424105, 590.6141667542225, 562.8263388336559, 562.8719823827272, 559.2141189339516, 524.0080687948306, 510.2450055495488, 2769.5216983271093, 2268.5901267931117, 1374.711514251433, 1974.0851186472282, 2875.988536789327, 4595.488953506186, 1301.529855055105, 3357.3705709272904, 1328.2857863068227, 4753.410980822876, 1068.0093514302587, 1482.749618673185, 910.1905243542476, 1259.9866827597173, 1157.2272988455363, 2952.9240342484236, 1986.185487850898, 1576.1053740991713, 1222.482136276516, 2637.355709787375, 1789.7419647775664, 1047.2264357080112, 804.3331316151322, 796.8114941969237, 630.6273337640878, 625.5768482131227, 564.0475327597803, 506.88921635783925, 495.8062335411683, 479.35683937205584, 469.3576638696958, 449.0270550989469, 444.49957628461374, 444.52606338097087, 443.6317138349375, 441.36216401730525, 438.185457322463, 402.7907399912852, 396.1250650229404, 383.7727605253786, 380.6394661465683, 380.57825617685774, 376.5177040413886, 375.91429378696125, 369.6881859671195, 367.6763531542265, 363.15020043957924, 361.25387788879675, 359.7337837778374, 9798.77113014942, 3555.150977445652, 2343.1229449193966, 1176.045224881758, 747.8192298657997, 2284.7816778029464, 1007.0068093619053, 1157.6461500981873, 1502.573961088657, 1210.7329216962107, 507.36724039723225, 1315.4406361763379, 6066.811700356128, 671.6699794520716, 1359.2470131990983, 755.4855517392076, 835.9298296512814, 944.4112050690494, 1145.8254370878553, 734.9548066079741, 706.1758610201205, 2210.6144578565395, 1570.6253488733093, 1543.1348836170712, 787.1932233806474, 781.3519636485869, 683.3509634323459, 3583.7258345518367, 3248.3499901885775, 1827.145217419759, 1689.6799413029405, 1616.8193657895606, 1585.2652741896695, 1578.2985703118802, 1569.2928933452417, 1556.6132265622182, 1526.1252576647441, 1444.2897380773306, 1442.2717009327887, 1403.7047390138155, 1397.756783554209, 1346.363200627748, 1301.6700593130142, 1034.3755572535288, 953.9626082408404, 921.4549246391842, 859.5164031228004, 802.8089822806553, 784.2234332337969, 775.1393135783917, 736.2505286180797, 687.8168319204456, 661.2382480080421, 662.0294522366546, 648.766665722765, 647.8933281741777, 617.5788860458658, 1211.1086797069152, 3653.006363588672, 2224.641229457222, 1319.8148127888646, 1242.372889001013, 1009.8085015542639, 976.4295605779741, 892.6334434880923, 961.203895080506, 822.1996257499454, 2829.6968248646717, 2506.9693464983375, 1991.3035093877686, 1296.2747515302938, 1034.5151736245568, 985.6391386237718, 963.4447436067246, 938.9317669804361, 936.427489044319, 935.2967645038361, 912.3485947530814, 890.3435175783637, 884.0608126657024, 856.134120645009, 819.3831691423346, 769.3707900081216, 742.865293043253, 695.3317163571393, 693.6929181744946, 687.682014240613, 664.5312269442253, 659.6280072197516, 631.4848359908273, 612.7419325207605, 562.2711819219894, 550.6546091454921, 537.5728836083548, 527.6998832029681, 485.06902672195525, 483.0024526363425, 1905.935398799315, 1530.8105860528522, 1461.9209951771836, 1668.7554833561487, 1018.9436562131164, 1769.128031987957, 2569.714724207481, 997.0315520816798, 2425.326651392979, 928.5634306768966, 921.5077819745927, 993.9955982130313, 982.565346162626, 868.8353997397608, 951.9313840206529], \"Total\": [13105.0, 10126.0, 12441.0, 15564.0, 19705.0, 4745.0, 5434.0, 6977.0, 6782.0, 4367.0, 7221.0, 7660.0, 3584.0, 5799.0, 5725.0, 4378.0, 3249.0, 5893.0, 3229.0, 3968.0, 2830.0, 2778.0, 3352.0, 2726.0, 4341.0, 2507.0, 3231.0, 2638.0, 2652.0, 3413.0, 13105.447592856257, 4367.199436408707, 2875.298379540072, 2419.045636661803, 2344.2711645464283, 2069.87209712286, 1666.2733755623474, 1643.6453110168945, 1641.4062050018729, 1592.392529720941, 1591.631983261386, 1507.8129616422666, 1441.287346616093, 1241.5660657876028, 1192.86101080473, 1135.786195515458, 1067.8880377948956, 1028.424326400136, 1000.5326734662465, 927.446636259948, 908.2361689715842, 891.2909267473694, 886.0491861599819, 854.7570073530508, 851.6331773093692, 958.4110526847927, 827.0145879266677, 826.4296000984662, 796.530910261042, 763.3519892218977, 3352.0375318626225, 12441.550197872586, 3413.7954597128846, 2363.301261113239, 5799.793007271988, 6782.907287394579, 6977.752186255443, 3573.143485599853, 2148.0943699483178, 19705.141293413097, 2245.202868170111, 4445.805946853765, 4762.478864693026, 2211.0733931697423, 3627.100592213349, 2107.400027134813, 4512.179770174478, 5119.932194538163, 9076.678067397403, 1670.0128657466098, 1612.2275520734916, 1464.506148094415, 1416.5473818346322, 1395.036675749427, 1379.2703688757124, 1322.8482306719716, 1234.4138764399966, 1113.68002211063, 1107.7047127468625, 1049.401442896894, 1044.3198181655748, 1021.7129834076264, 1010.0947004294725, 962.7103210131719, 949.1638923886339, 930.3520585318098, 894.0944164073495, 869.4133786779298, 846.8429859678328, 828.6226470729174, 784.5868651735713, 779.3204638569104, 756.8177137706828, 739.7419431754861, 725.7087627546206, 696.8544458683429, 693.457540097788, 692.8455938254954, 681.7319203560131, 1244.0754957930787, 1077.501610353865, 5893.615295408952, 2069.79509078567, 1716.2016101463971, 2307.5597762259904, 1963.6716987172986, 1336.27411146891, 1797.7776173555449, 7660.789445753637, 19705.141293413097, 1060.62876372035, 2101.8008789016417, 4512.179770174478, 3071.600933970388, 5119.932194538163, 3229.3110880009503, 2726.3354941625416, 2652.271406102343, 1708.3057500894718, 1411.7571618124605, 1307.0970743701182, 1135.7398882590162, 1132.8408988299207, 908.0313323015129, 901.4253993242222, 886.9745946967996, 751.3352882218534, 697.9436542906177, 683.3403532762823, 681.3401453982439, 668.4386165679474, 653.9591458569358, 646.323959209541, 640.4681357531092, 628.5653379874086, 619.6650319162904, 575.9221398430028, 542.1473950728735, 543.434974537217, 532.6146102934584, 532.6146102934584, 523.6155202376841, 511.46941515188394, 505.24386590405027, 501.05112275907317, 882.4408881727547, 1066.7762558680229, 839.0564779903225, 15564.130536576902, 7660.789445753637, 3071.600933970388, 734.8557442227493, 637.1637289016593, 1468.1843598066737, 5657.611686759035, 1210.0383980901192, 2082.4560692539553, 1621.533615962738, 2120.2781918104215, 995.8348788261019, 19705.141293413097, 2628.420934987399, 6977.752186255443, 5119.932194538163, 12441.550197872586, 4745.074395511112, 2778.422003628084, 2248.3109460325595, 1929.5676320453829, 1855.9775576979382, 1594.090031065013, 1580.6408763779532, 1453.21248886129, 1339.5791128873936, 1325.2844261312216, 1234.340653773364, 1156.4864809964142, 961.9058778316955, 930.0995427194736, 860.5426172630524, 818.1635934675876, 762.2462033188775, 702.7902607453178, 676.3125728930809, 663.9891595412075, 661.9280121705958, 664.0109807532542, 614.4303208703276, 596.0021686629694, 591.4885733591717, 563.7012016223949, 563.7482454984042, 560.0886982532214, 524.8819929960996, 511.1193977024109, 2941.618732583553, 2430.8038646163645, 1441.183422472404, 2133.658108176065, 3231.0267805694425, 5434.501414301273, 1402.0422920632227, 4341.035339348679, 1493.9305584066858, 7221.808223407393, 1208.6822793861813, 1874.7679007450547, 995.2772817441893, 1581.0653354160067, 1402.1207042265967, 5725.14062023963, 3300.245960868343, 2411.164773627, 1560.4965661743277, 2638.2225479468802, 1790.6078335501975, 1048.0916619390748, 805.1989469833691, 797.6781891709936, 631.4944377175855, 626.4426054858656, 564.9136442672885, 507.7552055312057, 496.67241226528205, 480.2219707587048, 470.2245604613465, 449.89228666269975, 445.36529181446343, 445.3932561227487, 444.49914516175204, 442.2271914049046, 439.053244386197, 403.65583286688155, 396.9938124954615, 384.63928054635244, 381.50487858326375, 381.4446057431968, 377.3836541622379, 376.7795473011447, 370.55334021924585, 368.5422924325627, 364.0189193277866, 362.11999034071374, 360.598930484105, 10126.208268939441, 3968.148262865573, 2624.4799953620704, 1276.0327196107899, 803.5113888305677, 2743.697881620072, 1128.5515045510151, 1347.111919260512, 1859.972012543204, 1528.451405676103, 545.1459115442349, 1912.8636504969602, 15564.130536576902, 819.7018550548967, 2356.8885114515083, 996.7509846773379, 1246.0678081749418, 1574.6783682626656, 2201.7987221319577, 1034.6616803000122, 965.7688660815227, 9076.678067397403, 5657.611686759035, 7221.808223407393, 1522.6608692169825, 1524.4526540258744, 1230.632652114352, 3584.597987522774, 3249.2221492970543, 1828.018099980006, 1690.5525866833898, 1617.691680919105, 1586.138463324631, 1579.1713885878885, 1570.165528461621, 1557.485517293834, 1526.9977200234275, 1445.163008620613, 1443.1444424177462, 1404.5772479167551, 1398.6292536569974, 1347.2354646382523, 1302.5428526542007, 1035.2479657533504, 954.8347990230311, 922.3272250219208, 860.3891259404317, 803.6830032893749, 785.0960766420463, 776.01447579851, 737.1240642577119, 688.6894652044278, 662.1107187737678, 662.907186105433, 649.6399531428532, 648.7654847144661, 618.4544564763522, 1293.6348376927342, 4378.243819007572, 3077.7832631050865, 1729.3533166222417, 1593.8740360705283, 1222.072227982286, 1259.6706206553436, 1762.1967224336545, 3128.8758208483478, 19705.141293413097, 2830.569480099407, 2507.8419519375148, 1992.176300242964, 1297.1476908316524, 1035.3878103030145, 986.5120606072179, 964.3191518072283, 939.8048134314903, 937.3000860638589, 936.1694267887169, 913.2214008043102, 891.2161346375852, 884.9336423650861, 857.00785108652, 820.2562019606713, 770.2438572072803, 743.7400323677219, 696.2048113595703, 694.5655020959098, 688.557221493084, 665.4041322995416, 660.5009213062825, 632.3579907433771, 613.6154019767387, 563.144143337556, 551.5272780968876, 538.4459476427832, 528.575349907858, 485.9417770908472, 483.87528906364435, 2016.6560300097847, 1752.7484517917462, 1740.0643740002868, 2076.806944433719, 1246.7704110981538, 3128.8758208483478, 5725.14062023963, 1481.81987747768, 9076.678067397403, 1369.9231532121407, 1446.7320523252015, 1786.9323042062351, 1855.3187926787054, 1762.1967224336545, 5657.611686759035], \"Category\": [\"Default\", \"Default\", \"Default\", \"Default\", \"Default\", \"Default\", \"Default\", \"Default\", \"Default\", \"Default\", \"Default\", \"Default\", \"Default\", \"Default\", \"Default\", \"Default\", \"Default\", \"Default\", \"Default\", \"Default\", \"Default\", \"Default\", \"Default\", \"Default\", \"Default\", \"Default\", \"Default\", \"Default\", \"Default\", \"Default\", \"Topic1\", \"Topic1\", \"Topic1\", \"Topic1\", \"Topic1\", \"Topic1\", \"Topic1\", \"Topic1\", \"Topic1\", \"Topic1\", \"Topic1\", \"Topic1\", \"Topic1\", \"Topic1\", \"Topic1\", \"Topic1\", \"Topic1\", \"Topic1\", \"Topic1\", \"Topic1\", \"Topic1\", \"Topic1\", \"Topic1\", \"Topic1\", \"Topic1\", \"Topic1\", \"Topic1\", \"Topic1\", \"Topic1\", \"Topic1\", \"Topic1\", \"Topic1\", \"Topic1\", \"Topic1\", \"Topic1\", \"Topic1\", \"Topic1\", \"Topic1\", \"Topic1\", \"Topic1\", \"Topic1\", \"Topic1\", \"Topic1\", \"Topic1\", \"Topic1\", \"Topic1\", \"Topic1\", \"Topic1\", \"Topic1\", \"Topic2\", \"Topic2\", \"Topic2\", \"Topic2\", \"Topic2\", \"Topic2\", \"Topic2\", \"Topic2\", \"Topic2\", \"Topic2\", \"Topic2\", \"Topic2\", \"Topic2\", \"Topic2\", \"Topic2\", \"Topic2\", \"Topic2\", \"Topic2\", \"Topic2\", \"Topic2\", \"Topic2\", \"Topic2\", \"Topic2\", \"Topic2\", \"Topic2\", \"Topic2\", \"Topic2\", \"Topic2\", \"Topic2\", \"Topic2\", \"Topic2\", \"Topic2\", \"Topic2\", \"Topic2\", \"Topic2\", \"Topic2\", \"Topic2\", \"Topic2\", \"Topic2\", \"Topic2\", \"Topic2\", \"Topic2\", \"Topic2\", \"Topic2\", \"Topic2\", \"Topic2\", \"Topic3\", \"Topic3\", \"Topic3\", \"Topic3\", \"Topic3\", \"Topic3\", \"Topic3\", \"Topic3\", \"Topic3\", \"Topic3\", \"Topic3\", \"Topic3\", \"Topic3\", \"Topic3\", \"Topic3\", \"Topic3\", \"Topic3\", \"Topic3\", \"Topic3\", \"Topic3\", \"Topic3\", \"Topic3\", \"Topic3\", \"Topic3\", \"Topic3\", \"Topic3\", \"Topic3\", \"Topic3\", \"Topic3\", \"Topic3\", \"Topic3\", \"Topic3\", \"Topic3\", \"Topic3\", \"Topic3\", \"Topic3\", \"Topic3\", \"Topic3\", \"Topic3\", \"Topic3\", \"Topic3\", \"Topic3\", \"Topic3\", \"Topic3\", \"Topic3\", \"Topic3\", \"Topic3\", \"Topic3\", \"Topic3\", \"Topic3\", \"Topic4\", \"Topic4\", \"Topic4\", \"Topic4\", \"Topic4\", \"Topic4\", \"Topic4\", \"Topic4\", \"Topic4\", \"Topic4\", \"Topic4\", \"Topic4\", \"Topic4\", \"Topic4\", \"Topic4\", \"Topic4\", \"Topic4\", \"Topic4\", \"Topic4\", \"Topic4\", \"Topic4\", \"Topic4\", \"Topic4\", \"Topic4\", \"Topic4\", \"Topic4\", \"Topic4\", \"Topic4\", \"Topic4\", \"Topic4\", \"Topic4\", \"Topic4\", \"Topic4\", \"Topic4\", \"Topic4\", \"Topic4\", \"Topic4\", \"Topic4\", \"Topic4\", \"Topic4\", \"Topic4\", \"Topic4\", \"Topic4\", \"Topic4\", \"Topic4\", \"Topic4\", \"Topic4\", \"Topic4\", \"Topic4\", \"Topic5\", \"Topic5\", \"Topic5\", \"Topic5\", \"Topic5\", \"Topic5\", \"Topic5\", \"Topic5\", \"Topic5\", \"Topic5\", \"Topic5\", \"Topic5\", \"Topic5\", \"Topic5\", \"Topic5\", \"Topic5\", \"Topic5\", \"Topic5\", \"Topic5\", \"Topic5\", \"Topic5\", \"Topic5\", \"Topic5\", \"Topic5\", \"Topic5\", \"Topic5\", \"Topic5\", \"Topic5\", \"Topic5\", \"Topic5\", \"Topic5\", \"Topic5\", \"Topic5\", \"Topic5\", \"Topic5\", \"Topic5\", \"Topic5\", \"Topic5\", \"Topic5\", \"Topic5\", \"Topic5\", \"Topic5\", \"Topic5\", \"Topic5\", \"Topic5\", \"Topic5\", \"Topic5\", \"Topic5\", \"Topic5\", \"Topic5\", \"Topic5\", \"Topic5\", \"Topic5\", \"Topic5\", \"Topic5\", \"Topic5\", \"Topic5\", \"Topic6\", \"Topic6\", \"Topic6\", \"Topic6\", \"Topic6\", \"Topic6\", \"Topic6\", \"Topic6\", \"Topic6\", \"Topic6\", \"Topic6\", \"Topic6\", \"Topic6\", \"Topic6\", \"Topic6\", \"Topic6\", \"Topic6\", \"Topic6\", \"Topic6\", \"Topic6\", \"Topic6\", \"Topic6\", \"Topic6\", \"Topic6\", \"Topic6\", \"Topic6\", \"Topic6\", \"Topic6\", \"Topic6\", \"Topic6\", \"Topic6\", \"Topic6\", \"Topic6\", \"Topic6\", \"Topic6\", \"Topic6\", \"Topic6\", \"Topic6\", \"Topic6\", \"Topic6\", \"Topic7\", \"Topic7\", \"Topic7\", \"Topic7\", \"Topic7\", \"Topic7\", \"Topic7\", \"Topic7\", \"Topic7\", \"Topic7\", \"Topic7\", \"Topic7\", \"Topic7\", \"Topic7\", \"Topic7\", \"Topic7\", \"Topic7\", \"Topic7\", \"Topic7\", \"Topic7\", \"Topic7\", \"Topic7\", \"Topic7\", \"Topic7\", \"Topic7\", \"Topic7\", \"Topic7\", \"Topic7\", \"Topic7\", \"Topic7\", \"Topic7\", \"Topic7\", \"Topic7\", \"Topic7\", \"Topic7\", \"Topic7\", \"Topic7\", \"Topic7\", \"Topic7\", \"Topic7\", \"Topic7\", \"Topic7\", \"Topic7\", \"Topic7\", \"Topic7\"], \"logprob\": [30.0, 29.0, 28.0, 27.0, 26.0, 25.0, 24.0, 23.0, 22.0, 21.0, 20.0, 19.0, 18.0, 17.0, 16.0, 15.0, 14.0, 13.0, 12.0, 11.0, 10.0, 9.0, 8.0, 7.0, 6.0, 5.0, 4.0, 3.0, 2.0, 1.0, -3.3722, -4.4712, -4.8893, -5.0622, -5.0936, -5.2181, -5.4351, -5.4488, -5.4501, -5.4805, -5.481, -5.5351, -5.5802, -5.7295, -5.7695, -5.8186, -5.8803, -5.918, -5.9455, -6.0214, -6.0424, -6.0612, -6.0671, -6.1031, -6.1068, -5.9887, -6.1362, -6.1369, -6.1738, -6.2164, -4.7596, -3.5039, -4.7676, -5.1457, -4.3223, -4.2104, -4.206, -4.8126, -5.3124, -3.4897, -5.3045, -4.814, -4.7719, -5.3779, -5.0711, -5.4353, -5.0734, -5.0194, -4.7674, -5.4166, -5.4519, -5.548, -5.5813, -5.5966, -5.608, -5.6498, -5.719, -5.8221, -5.8274, -5.8816, -5.8864, -5.9083, -5.9198, -5.9678, -5.982, -6.0021, -6.0419, -6.0699, -6.0962, -6.118, -6.1726, -6.1794, -6.2087, -6.2316, -6.2508, -6.2914, -6.2963, -6.2971, -6.3133, -5.7178, -5.8952, -4.3687, -5.348, -5.5172, -5.3468, -5.4908, -5.8129, -5.6461, -4.9025, -4.3934, -5.9833, -5.7565, -5.8522, -5.9098, -5.9086, -4.5421, -4.7115, -4.7391, -5.1792, -5.3699, -5.447, -5.5876, -5.5902, -5.8116, -5.8189, -5.8351, -6.0012, -6.075, -6.0962, -6.0991, -6.1183, -6.1402, -6.152, -6.1611, -6.1798, -6.1941, -6.2674, -6.328, -6.3256, -6.3457, -6.3457, -6.3628, -6.3863, -6.3986, -6.4069, -5.8638, -5.7673, -5.9753, -3.5857, -4.2916, -4.9955, -6.0978, -6.2073, -5.6417, -4.7712, -5.7957, -5.5861, -5.7377, -5.7252, -5.9972, -5.0783, -5.7619, -5.7484, -5.8546, -5.7619, -4.156, -4.6914, -4.9032, -5.0561, -5.095, -5.2472, -5.2557, -5.3398, -5.4212, -5.432, -5.5031, -5.5683, -5.7527, -5.7863, -5.8642, -5.9147, -5.9856, -6.0669, -6.1053, -6.1237, -6.1269, -6.1237, -6.2014, -6.2319, -6.2395, -6.2877, -6.2876, -6.2942, -6.3592, -6.3858, -4.6943, -4.8938, -5.3947, -5.0328, -4.6565, -4.1879, -5.4494, -4.5018, -5.4291, -4.1541, -5.6471, -5.319, -5.807, -5.4818, -5.5669, -4.6301, -5.0267, -5.258, -5.5121, -4.7332, -5.1209, -5.6569, -5.9207, -5.9301, -6.164, -6.1721, -6.2756, -6.3825, -6.4046, -6.4383, -6.4594, -6.5037, -6.5138, -6.5137, -6.5158, -6.5209, -6.5281, -6.6123, -6.629, -6.6607, -6.6689, -6.6691, -6.6798, -6.6814, -6.6981, -6.7036, -6.7159, -6.7212, -6.7254, -3.4207, -4.4346, -4.8515, -5.5408, -5.9936, -4.8767, -5.696, -5.5566, -5.2958, -5.5118, -6.3815, -5.4288, -3.9002, -6.101, -5.3961, -5.9834, -5.8822, -5.7602, -5.5669, -6.0109, -6.0509, -4.9097, -5.2515, -5.2692, -5.9423, -5.9497, -6.0837, -4.3873, -4.4855, -5.0609, -5.1391, -5.1832, -5.2029, -5.2073, -5.213, -5.2212, -5.2409, -5.296, -5.2974, -5.3245, -5.3288, -5.3663, -5.4, -5.6299, -5.7108, -5.7455, -5.815, -5.8833, -5.9067, -5.9184, -5.9698, -6.0379, -6.0773, -6.0761, -6.0963, -6.0977, -6.1456, -5.4721, -4.3681, -4.8641, -5.3862, -5.4466, -5.6539, -5.6875, -5.7772, -5.7032, -5.8594, -4.5515, -4.6726, -4.9029, -5.3322, -5.5577, -5.6061, -5.6289, -5.6547, -5.6573, -5.6585, -5.6834, -5.7078, -5.7149, -5.747, -5.7909, -5.8538, -5.8889, -5.955, -5.9574, -5.9661, -6.0003, -6.0077, -6.0513, -6.0815, -6.1674, -6.1883, -6.2123, -6.2309, -6.3151, -6.3194, -4.9467, -5.1659, -5.2119, -5.0796, -5.5729, -5.0212, -4.6479, -5.5946, -4.7057, -5.6658, -5.6734, -5.5977, -5.6092, -5.7323, -5.6409], \"loglift\": [30.0, 29.0, 28.0, 27.0, 26.0, 25.0, 24.0, 23.0, 22.0, 21.0, 20.0, 19.0, 18.0, 17.0, 16.0, 15.0, 14.0, 13.0, 12.0, 11.0, 10.0, 9.0, 8.0, 7.0, 6.0, 5.0, 4.0, 3.0, 2.0, 1.0, 1.7599, 1.7598, 1.7596, 1.7596, 1.7596, 1.7595, 1.7594, 1.7594, 1.7594, 1.7594, 1.7594, 1.7594, 1.7593, 1.7592, 1.7592, 1.7592, 1.7591, 1.7591, 1.7591, 1.759, 1.759, 1.759, 1.759, 1.7589, 1.7589, 1.7589, 1.7589, 1.7589, 1.7589, 1.7588, 1.7359, 1.6802, 1.7097, 1.6994, 1.625, 1.5803, 1.5563, 1.6191, 1.6282, 1.2345, 1.5918, 1.3991, 1.3724, 1.5337, 1.3455, 1.5244, 1.1249, 1.0526, 0.732, 1.7757, 1.7756, 1.7756, 1.7756, 1.7756, 1.7756, 1.7755, 1.7755, 1.7754, 1.7754, 1.7754, 1.7753, 1.7753, 1.7753, 1.7753, 1.7753, 1.7752, 1.7752, 1.7752, 1.7752, 1.7751, 1.7751, 1.7751, 1.775, 1.775, 1.775, 1.7749, 1.7749, 1.7749, 1.7749, 1.769, 1.7352, 1.5625, 1.6297, 1.6478, 1.5221, 1.5395, 1.6024, 1.4725, 0.7665, 0.3308, 1.6629, 1.2058, 0.3462, 0.6731, 0.1634, 1.9907, 1.9907, 1.9907, 1.9905, 1.9904, 1.9903, 1.9902, 1.9902, 1.99, 1.99, 1.99, 1.9898, 1.9897, 1.9897, 1.9897, 1.9897, 1.9896, 1.9896, 1.9896, 1.9896, 1.9896, 1.9895, 1.9894, 1.9894, 1.9893, 1.9893, 1.9893, 1.9893, 1.9892, 1.9892, 1.9664, 1.8732, 1.9053, 1.3744, 1.3774, 1.5874, 1.9154, 1.9485, 1.6794, 1.2009, 1.7187, 1.3855, 1.4841, 1.2284, 1.7121, -0.354, 0.9768, 0.014, 0.2174, -0.5778, 1.992, 1.9919, 1.9918, 1.9917, 1.9917, 1.9916, 1.9916, 1.9916, 1.9915, 1.9915, 1.9915, 1.9914, 1.9913, 1.9912, 1.9912, 1.9911, 1.991, 1.9909, 1.9909, 1.9909, 1.9909, 1.9909, 1.9908, 1.9907, 1.9907, 1.9906, 1.9906, 1.9906, 1.9905, 1.9905, 1.9319, 1.9231, 1.945, 1.9144, 1.8758, 1.8245, 1.9178, 1.7352, 1.8747, 1.5739, 1.8684, 1.7576, 1.9028, 1.7652, 1.8002, 1.3301, 1.4844, 1.567, 1.7481, 2.0018, 2.0016, 2.0013, 2.001, 2.001, 2.0007, 2.0007, 2.0006, 2.0004, 2.0004, 2.0003, 2.0003, 2.0002, 2.0002, 2.0002, 2.0002, 2.0002, 2.0001, 2.0, 1.9999, 1.9999, 1.9998, 1.9998, 1.9998, 1.9998, 1.9998, 1.9998, 1.9997, 1.9997, 1.9997, 1.9693, 1.8922, 1.8887, 1.9205, 1.9303, 1.8191, 1.8882, 1.8505, 1.7887, 1.7691, 1.9303, 1.6277, 1.06, 1.8029, 1.4517, 1.725, 1.6029, 1.4909, 1.349, 1.6601, 1.6891, 0.5897, 0.7206, 0.4588, 1.3424, 1.3338, 1.4138, 2.0412, 2.0412, 2.041, 2.0409, 2.0409, 2.0409, 2.0409, 2.0409, 2.0409, 2.0409, 2.0409, 2.0409, 2.0408, 2.0408, 2.0408, 2.0408, 2.0406, 2.0405, 2.0405, 2.0404, 2.0404, 2.0403, 2.0403, 2.0403, 2.0402, 2.0401, 2.0401, 2.0401, 2.0401, 2.04, 1.9755, 1.8604, 1.7168, 1.7712, 1.7923, 1.8507, 1.7868, 1.3613, 0.8612, -1.1352, 2.1132, 2.1131, 2.113, 2.1128, 2.1126, 2.1126, 2.1126, 2.1125, 2.1125, 2.1125, 2.1125, 2.1125, 2.1125, 2.1125, 2.1124, 2.1123, 2.1123, 2.1122, 2.1122, 2.1122, 2.1122, 2.1122, 2.1121, 2.112, 2.1119, 2.1119, 2.1119, 2.1118, 2.1117, 2.1117, 2.057, 1.9781, 1.9393, 1.8947, 1.9117, 1.5433, 1.3124, 1.7172, 0.7937, 1.7246, 1.6624, 1.527, 1.4778, 1.4063, 0.3312]}, \"token.table\": {\"Topic\": [1, 2, 3, 5, 4, 7, 2, 3, 5, 6, 7, 6, 1, 3, 4, 1, 2, 3, 4, 6, 7, 2, 6, 5, 7, 2, 3, 5, 3, 7, 2, 2, 3, 7, 4, 3, 3, 4, 2, 4, 5, 7, 2, 3, 1, 2, 3, 4, 5, 7, 1, 2, 3, 7, 7, 5, 3, 1, 2, 5, 1, 5, 7, 7, 2, 2, 3, 5, 7, 5, 2, 3, 6, 4, 3, 4, 2, 1, 1, 2, 3, 6, 7, 1, 4, 1, 3, 5, 6, 7, 6, 4, 5, 2, 1, 2, 3, 4, 6, 6, 3, 1, 3, 4, 5, 3, 1, 1, 4, 3, 3, 7, 3, 5, 4, 5, 1, 2, 4, 5, 6, 5, 1, 4, 4, 3, 1, 3, 4, 5, 6, 7, 3, 3, 3, 4, 5, 2, 5, 4, 4, 5, 1, 1, 2, 6, 2, 4, 6, 2, 7, 1, 5, 7, 1, 2, 3, 4, 5, 6, 1, 4, 7, 5, 7, 1, 2, 5, 7, 1, 1, 5, 1, 1, 2, 3, 5, 6, 7, 2, 5, 6, 5, 5, 5, 4, 5, 2, 4, 7, 4, 1, 4, 7, 3, 1, 5, 1, 3, 4, 5, 7, 2, 2, 1, 4, 1, 3, 2, 6, 5, 1, 3, 5, 2, 3, 4, 5, 3, 4, 6, 2, 2, 5, 1, 1, 3, 4, 5, 7, 4, 1, 3, 5, 2, 1, 4, 5, 6, 7, 5, 2, 2, 1, 3, 4, 1, 2, 3, 4, 5, 7, 4, 1, 2, 6, 3, 4, 1, 3, 4, 5, 4, 5, 3, 2, 4, 1, 2, 2, 4, 6, 2, 1, 2, 3, 6, 3, 5, 7, 7, 1, 5, 6, 7, 3, 5, 1, 2, 4, 2, 3, 5, 6, 2, 3, 5, 3, 7, 1, 2, 3, 4, 5, 7, 5, 4, 4, 2, 6, 4, 2, 2, 1, 2, 3, 4, 5, 2, 3, 7, 7, 1, 2, 6, 1, 3, 3, 5, 6, 4, 5, 6, 5, 2, 3, 5, 6, 5, 6, 7, 1, 4, 7, 2, 4, 5, 2, 1, 2, 6, 5, 1, 2, 4, 1, 2, 2, 4, 2, 6, 2, 1, 2, 7, 5, 7, 3, 1, 7, 2, 3, 2, 4, 5, 6, 7, 5, 1, 3, 7, 2, 6, 3, 4, 4, 3, 4, 7, 3, 5, 6, 5, 3, 4, 5, 7, 4, 5, 6, 7, 2, 1, 3, 5, 1, 2, 3, 5, 7, 1, 7, 3, 5, 4, 5, 7, 3, 1, 3, 1, 2, 3, 6, 1, 4, 3, 4, 1, 3, 2, 5, 2, 3, 1, 2, 4, 5, 4, 5, 7, 5, 4, 6, 1, 1, 2, 3, 4, 5, 6, 6, 5, 1, 7, 1, 2, 2, 3, 1, 2, 5, 6, 7, 1, 2, 3, 4, 7, 3, 7, 4, 1, 2, 3, 4, 5, 6, 7, 3, 4, 4, 5, 6, 7, 6, 6, 7, 7, 7, 7, 3, 7, 7, 6, 7, 6, 7, 6, 7, 7, 1, 7, 6, 1, 3, 6, 7, 6, 7, 6, 7, 5, 6, 6, 6, 6, 6, 5, 6, 6, 6, 7, 7, 5, 5, 6, 7, 6, 7, 6, 7, 5, 6, 7, 1, 3, 6, 7, 6, 5, 6, 7, 6, 7, 6, 7, 6, 3, 4], \"Freq\": [0.9995874014361161, 0.040805838155317964, 0.9589371966499721, 0.9991497960202491, 0.9985102775745751, 0.9992416039249546, 0.26171020270081735, 0.5459899091207878, 0.01872788606482913, 0.1733529966513671, 0.00048020220679049054, 0.9986315035883641, 0.03352170135717684, 0.16950596157968664, 0.7969310133970342, 0.6788481569898556, 0.05459341813095034, 0.0718113423107116, 0.1167459249261861, 0.06215250679523577, 0.015748101383927984, 0.775711215996121, 0.22404620037429865, 0.9991170586502093, 0.9990049851621325, 0.17493641008094254, 0.11501344088194565, 0.710377134859076, 0.7619592910896476, 0.2380089759585884, 0.998546723770415, 0.25133083426156977, 0.732196874881267, 0.0156656075555992, 0.9978099095682089, 0.9994636741835342, 0.997883610465897, 0.9994732922853061, 0.002406216873046902, 0.01604144582031268, 0.16362274736718932, 0.817311664544931, 0.3317488247676851, 0.6680555332907653, 0.6608584292219173, 0.06341153054695077, 0.07443962281598568, 0.029224444512942527, 0.13068289338806374, 0.04135534600888093, 0.10496883236272203, 0.04333575648002286, 0.04815084053335873, 0.8036375285017572, 0.999115219616267, 0.9973957964676599, 0.9980330743648452, 0.8453579081461406, 0.11936560557595663, 0.035186130001867814, 0.3275504956000476, 0.5766076729539698, 0.09546484651555791, 0.9994095400879829, 0.9995245314966761, 0.9993021685941109, 0.10098425693604912, 0.025103431102746675, 0.8734852958705718, 0.9976011010061674, 0.21790761160705813, 0.7561494541019114, 0.025104563549200244, 0.9994169196058611, 0.9988244805321953, 0.998477463803223, 0.9989970243240486, 0.9997525262176815, 0.6970614635560329, 0.13968221002526507, 0.034864319732554085, 0.10099406167688246, 0.02721666250089706, 0.07132452463530299, 0.9286453107516449, 0.12827362809651413, 0.6025160319725688, 0.22879575011445547, 0.02651810580841398, 0.013567402971746686, 0.9992651738998835, 0.9990308298310189, 0.9983390674972304, 0.9993402045960543, 0.01971703516759291, 0.008498722054996945, 0.03025545051578912, 0.9416584036936614, 0.9993466132854395, 0.9994430580419215, 0.9983988463384058, 0.8738242888402328, 0.006551957966836788, 0.04327740657042194, 0.0763820362975973, 0.9988642106667192, 0.9995440711507818, 0.9991684167595609, 0.9993162048292312, 0.9992690725315183, 0.9176974616110181, 0.08104341219421977, 0.9982227798390603, 0.9986461654630359, 0.06787173711931563, 0.9300262356619736, 0.9982288783667469, 0.789337647944147, 0.11050727071218057, 0.08555401603523657, 0.014768252767987265, 0.9992170355144021, 0.9996029338012603, 0.9995676904172196, 0.9993694475413917, 0.9980385275509401, 0.9995184237642512, 0.22799540891454576, 0.013625223640311499, 0.5204835430598993, 0.03678810382884105, 0.20119913575526646, 0.9995101504692283, 0.998926788051548, 0.028752702779265553, 0.2833448164793078, 0.687450984631531, 0.8792673256327255, 0.1200325176145404, 0.9991656492972751, 0.9987560757004299, 0.999293462031494, 0.9996073903459772, 0.8356298796142277, 0.10954004949777192, 0.05484373945245108, 0.15143057979586982, 0.01416092903068466, 0.8343528024046946, 0.9992621653703428, 0.9986320381538041, 0.013322542391534653, 0.9216064619085148, 0.0642616750650495, 0.09838857722906151, 0.008064637477791927, 0.011290492468908698, 0.06397945732381595, 0.8080766752747511, 0.010215207471869775, 0.9995786710086714, 0.8901195178249585, 0.1095626944749775, 0.8328176419521727, 0.16692800000616853, 0.0693512398276813, 0.10271834578250907, 0.7923052021822834, 0.03532987689334707, 0.9991068077999051, 0.9999658468088872, 0.9989833842615955, 0.9985277165983845, 0.3577299950367224, 0.0048475884760134855, 0.06367968498035896, 0.2435913209196776, 0.06290847772281136, 0.2671682285075614, 0.21384724487118564, 0.5123150252895582, 0.27354080095486016, 0.9974966549498228, 0.9985285476220834, 0.9972009165631606, 0.7910312521409388, 0.20855915009245252, 0.018040729302447867, 0.954077030417916, 0.0270610939536718, 0.9980592215113405, 0.999460833894556, 0.9143180666248668, 0.08439859076537232, 0.999520634992551, 0.9995484365903341, 0.9974554043065248, 0.9986389344381825, 0.048602786053267864, 0.6581454191201771, 0.21365840136806927, 0.07948147918682551, 0.9992485758443643, 0.9992520073944375, 0.34589091924458304, 0.6536260056708187, 0.9991143595822689, 0.9988460506310185, 0.06338728488964576, 0.9361219756263539, 0.9996605434541229, 0.9993334718663109, 0.17933349679946153, 0.8198102710832528, 0.011035855664151516, 0.058189057138253446, 0.17256065220309644, 0.7574610024031267, 0.9986479506120349, 0.9992996425213553, 0.9992582258035109, 0.9989195366918558, 0.999078955870887, 0.9985067191165556, 0.9995677482698316, 0.010432819076708595, 0.15408471251754235, 0.16451753159425095, 0.670910519086799, 0.9991858189123944, 0.9990582469110829, 0.020956532378678793, 0.08611229668329831, 0.8927482793317166, 0.9993638081171335, 0.9992357943294163, 0.7733178234166778, 0.11725313438161722, 0.029486053439778004, 0.07970448820439992, 0.9988344159636744, 0.9990045545847329, 0.9987361935083323, 0.950847828555318, 0.04891915815426313, 0.9995793457127186, 0.05019786010847441, 0.03093177999641909, 0.4537250242903303, 0.019266080112055318, 0.27767900785356797, 0.16826888318051986, 0.9985777985272408, 0.11740292605861775, 0.8638536287769899, 0.018842444922988033, 0.9988460506310185, 0.9997735766772954, 0.13998956607417257, 0.06787372900565943, 0.6017733294876768, 0.1902888473908666, 0.7830840685512196, 0.21595689942860966, 0.9975380880640192, 0.9990233509763197, 0.9980562038537525, 0.976421048060669, 0.023567755208308235, 0.8403964354031624, 0.10851067064421954, 0.050139413332156615, 0.9983056214764652, 0.008314081857051367, 0.8076536661135614, 0.051581242541706436, 0.13234660915306257, 0.9991995831008347, 0.05454574224017087, 0.9451289519069607, 0.998911508249565, 0.9410564944024018, 0.013540381214423048, 0.04485251277277635, 0.9979682939952548, 0.03229244267106587, 0.9676869900115425, 0.07354128293334294, 0.8928666017676381, 0.03299929362393594, 0.36432276591899376, 0.541458557159436, 0.07936518870610827, 0.014750438032549728, 0.9992568827992495, 0.975702748523868, 0.023797628012777267, 0.9995940038091028, 0.9989970884453745, 0.046003212213964986, 0.013299811352361387, 0.53976673995743, 0.011051050978773713, 0.38980654818732624, 6.425029638821925e-05, 0.9972249752417848, 0.9997058242292439, 0.9988178225351464, 0.992705028092131, 0.00643047791476684, 0.9991739935796274, 0.9996174553602807, 0.9996543899149392, 0.12707249267195525, 0.3055066216035331, 0.36257510633644713, 0.006848218167949683, 0.19783741374076863, 0.9989162398050331, 0.8886586993151848, 0.11061363556876773, 0.9991907404705224, 0.9997534968837051, 0.9987738531720521, 0.99860389489305, 0.9992781968754689, 0.9991606787348623, 0.9990822224399389, 0.9979310254319043, 0.9991952405274177, 0.027468839370634743, 0.8922942337493286, 0.07974824333410087, 0.9985126582199869, 0.5652295666660986, 0.33542663678417467, 0.09896275241291962, 0.9992822421554265, 0.1563900886229376, 0.7748057182537417, 0.06827181533793215, 0.9997253534155763, 0.883606898367348, 0.11582861963616921, 0.06276207157823861, 0.8251786001820691, 0.11126003597960482, 0.9996135802856638, 0.9994801733887375, 0.7381335640121948, 0.2614338923027366, 0.9980166660128389, 0.11261382661332628, 0.041586151657862315, 0.8455237472029972, 0.9988158827112873, 0.9987759498468326, 0.9987795349598364, 0.9998481139195079, 0.9596273361117497, 0.03897906007417165, 0.9992385987499638, 0.13039106151449864, 0.31338624226660616, 0.556260580023226, 0.7310237726594978, 0.2681801092334418, 0.9991005899415027, 0.15918951283577876, 0.8401988005989479, 0.9993587845889618, 0.9993438192272621, 0.0426884287329363, 0.25284684711046884, 0.5168583601972442, 0.10048199378675776, 0.08669034758073219, 0.9983826833064484, 0.9232772297108276, 0.07659817183898482, 0.9990439673288563, 0.1734758348530877, 0.8264650622717858, 0.06623323351734485, 0.9334360673966179, 0.998598016470775, 0.9979021646468227, 0.8889302066465158, 0.11044690067520717, 0.04460518818220279, 0.8958838643374628, 0.059473584242937055, 0.9983379738402058, 0.03388563056672658, 0.5157951910491938, 0.0013973455903804777, 0.4488972709097284, 0.04602291949092328, 0.08117931632426745, 0.3071390668803977, 0.5653787818016894, 0.9996647182538241, 0.8765909106895077, 0.004189760061712995, 0.1191753973109474, 0.0666323942072524, 0.15357954274598418, 0.1300144277214681, 0.554999088336017, 0.09426046009806437, 0.9994676101237143, 0.9983851124606301, 0.9993485407471685, 0.9989584289440342, 0.11506096693516468, 0.8596167723285206, 0.025239179843842576, 0.9992356461427333, 0.7973502849096317, 0.2021642526118011, 0.8157354758473542, 0.045716728179076946, 0.1384399981849164, 0.9986927102133422, 0.99925651404121, 0.9989138705192399, 0.07451990522320348, 0.9251716535258092, 0.7900730656550797, 0.209737114125853, 0.9989263809803259, 0.9995366016609055, 0.9987737708967153, 0.9992577079175115, 0.9993077962044598, 0.9993893918386528, 0.9988755382801126, 0.9985109928572797, 0.379760090728731, 0.5994875010834817, 0.02032161020621972, 0.9986766130353598, 0.9986727311270961, 0.9995890237310826, 0.9994577570352556, 0.5913177594872132, 0.23567453441972352, 0.09586330652860847, 0.0026389052088341136, 0.03278332240205456, 0.04171500157041618, 0.999206979991671, 0.9983752672116153, 0.9985516213520983, 0.9988239885022732, 0.868702869758645, 0.13125697355567156, 0.9993934982374181, 0.9985333245004487, 0.529899100165405, 0.23935216569579149, 0.04122176186983075, 0.1303139568788198, 0.059173174297015116, 0.29147118636932934, 0.15799813500602805, 0.4664482254357067, 0.06225598155461404, 0.0212236300754366, 0.9267124947363484, 0.07212299885613285, 0.9995945464984926, 0.4929752785969609, 0.19941670342610818, 0.1697288102617904, 0.021679974613416267, 0.0802745005956224, 0.01093764485001181, 0.025195646172348634, 0.9995280814978798, 0.9983650908152097, 0.9983196356364503, 0.9969071292096856, 0.5067538650093142, 0.4931345002162307, 0.9995832362420211, 0.9991501583502705, 0.9986625359379068, 0.9996642723290978, 0.9996254443995232, 0.9986354212066866, 0.9979515548036308, 0.9982694584410908, 0.9981910854233988, 0.36219561124523525, 0.6372983846719598, 0.9989988736008569, 0.9987508385178436, 0.999673132508422, 0.9984685248856777, 0.998061954877629, 0.9987731922248055, 0.9986129457543117, 0.9985610041795208, 0.04516237438362275, 0.02501800595351764, 0.7229228993061916, 0.20696714016091866, 0.7632911026985584, 0.23650459166947757, 0.9990149110445606, 0.9991717875401692, 0.9969344449611215, 0.999257703445596, 0.998322457646019, 0.9991257136586504, 0.9995724272262363, 0.9995477326145814, 0.9309139987283078, 0.06844955873002263, 0.9987945247953786, 0.9988200902598834, 0.9994809383203053, 0.9978524969032483, 0.9988770615935146, 0.045172954932816305, 0.7792334725910812, 0.17504520036466317, 0.999833178636808, 0.9989449577681431, 0.9996238640385611, 0.9997988107681473, 0.0033742292676697564, 0.32325116384276265, 0.6728213159733494, 0.026949546459242243, 0.03772936504293914, 0.40532117874700335, 0.5298280833887025, 0.9990829630968896, 0.056937500338693256, 0.2649783669608417, 0.6781402283928979, 0.9984750677501706, 0.9991436376788158, 0.9996882685017338, 0.9993926513528778, 0.9995500925957668, 0.9989012146428695, 0.9983185150731622], \"Term\": [\"act\", \"africa\", \"africa\", \"african\", \"agt\", \"albania\", \"album\", \"album\", \"album\", \"album\", \"album\", \"alfa\", \"america\", \"america\", \"america\", \"anim\", \"anim\", \"anim\", \"anim\", \"anim\", \"anim\", \"argentina\", \"argentina\", \"ariana\", \"arsen\", \"art\", \"art\", \"art\", \"auto\", \"auto\", \"azelart\", \"bad\", \"bad\", \"bad\", \"banban\", \"bangla\", \"bangladesh\", \"barcelona\", \"battl\", \"battl\", \"battl\", \"battl\", \"ben\", \"ben\", \"best\", \"best\", \"best\", \"best\", \"best\", \"best\", \"big\", \"big\", \"big\", \"big\", \"biker\", \"black\", \"blackpink\", \"boi\", \"boi\", \"boi\", \"box\", \"box\", \"box\", \"brawl\", \"brent\", \"broma\", \"brother\", \"brother\", \"brother\", \"bt\", \"bunni\", \"bunni\", \"bunni\", \"b\\u00f6l\\u00fcm\", \"camilo\", \"canada\", \"cancion\", \"cat\", \"challeng\", \"challeng\", \"challeng\", \"challeng\", \"challeng\", \"champion\", \"champion\", \"channel\", \"channel\", \"channel\", \"channel\", \"channel\", \"chapter\", \"chelsea\", \"chow\", \"cita\", \"citi\", \"citi\", \"citi\", \"citi\", \"clan\", \"clash\", \"coch\", \"comedi\", \"comedi\", \"comedi\", \"comedi\", \"comic\", \"compil\", \"cool\", \"copa\", \"crash\", \"cricket\", \"cricket\", \"dancehal\", \"date\", \"david\", \"david\", \"dazn\", \"del\", \"del\", \"del\", \"del\", \"digit\", \"dii\", \"dizi\", \"dizisi\", \"di\\u1ec5n\", \"dog\", \"drama\", \"drama\", \"drama\", \"drama\", \"drama\", \"eagl\", \"elect\", \"episod\", \"episod\", \"episod\", \"espa\\u00f1ol\", \"espa\\u00f1ol\", \"espn\", \"essenti\", \"eurovis\", \"fail\", \"famili\", \"famili\", \"famili\", \"fede\", \"fede\", \"fede\", \"feid\", \"fifa\", \"fight\", \"fight\", \"fight\", \"film\", \"film\", \"film\", \"film\", \"film\", \"film\", \"food\", \"footbal\", \"footbal\", \"fortnit\", \"fortnit\", \"free\", \"free\", \"free\", \"free\", \"fun\", \"funni\", \"furi\", \"gadget\", \"game\", \"game\", \"game\", \"game\", \"game\", \"game\", \"gameplai\", \"gameplai\", \"gameplai\", \"gang\", \"gaspi\", \"german\", \"goal\", \"goal\", \"gol\", \"gol\", \"gol\", \"gole\", \"good\", \"got\", \"got\", \"gta\", \"hack\", \"harmon\", \"help\", \"highlight\", \"highlight\", \"highlight\", \"highlight\", \"hip\", \"historia\", \"home\", \"home\", \"homeless\", \"hu\\u1ea5n\", \"ian\", \"ian\", \"ibai\", \"idea\", \"india\", \"india\", \"interview\", \"interview\", \"interview\", \"interview\", \"ishowspe\", \"item\", \"jenni\", \"jeremi\", \"juego\", \"kabhi\", \"kind\", \"king\", \"king\", \"king\", \"king\", \"kosova\", \"laliga\", \"latest\", \"latest\", \"latest\", \"latin\", \"laugh\", \"leagu\", \"leagu\", \"leagu\", \"leagu\", \"let\", \"letra\", \"lexi\", \"life\", \"life\", \"liga\", \"live\", \"live\", \"live\", \"live\", \"live\", \"live\", \"liverpool\", \"lo\", \"lo\", \"lo\", \"luy\\u1ec7n\", \"madrid\", \"man\", \"man\", \"man\", \"man\", \"manchest\", \"manchest\", \"marvel\", \"masterchef\", \"mbapp\", \"meme\", \"meme\", \"mexico\", \"mexico\", \"mexico\", \"milo\", \"minecraft\", \"minecraft\", \"minecraft\", \"minecraft\", \"miss\", \"mobil\", \"mobil\", \"modern\", \"moment\", \"moment\", \"moment\", \"motorcycl\", \"movi\", \"movi\", \"mrbeast\", \"mrbeast\", \"mrbeast\", \"music\", \"music\", \"music\", \"music\", \"musica\", \"nam\", \"nam\", \"natok\", \"nba\", \"new\", \"new\", \"new\", \"new\", \"new\", \"new\", \"ngannou\", \"nigerian\", \"nollywood\", \"noticia\", \"noticia\", \"nrl\", \"nueva\", \"nuevo\", \"offici\", \"offici\", \"offici\", \"offici\", \"offici\", \"ofici\", \"olymp\", \"olymp\", \"pakistani\", \"panda\", \"para\", \"payaso\", \"peopl\", \"phim\", \"ph\\u01b0\\u01a1ng\", \"pierd\", \"playtim\", \"podcast\", \"podcast\", \"podcast\", \"pokemon\", \"pop\", \"pop\", \"pop\", \"poppi\", \"power\", \"power\", \"power\", \"prank\", \"premier\", \"premier\", \"product\", \"product\", \"product\", \"que\", \"random\", \"rap\", \"rap\", \"rashford\", \"real\", \"real\", \"real\", \"recip\", \"reggaeton\", \"remix\", \"resumen\", \"reto\", \"reto\", \"rivera\", \"roblox\", \"roblox\", \"roblox\", \"ronaldo\", \"ronaldo\", \"rose\", \"royal\", \"royal\", \"ryan\", \"scari\", \"season\", \"season\", \"season\", \"season\", \"season\", \"serial\", \"short\", \"short\", \"shqip\", \"skabech\", \"skabech\", \"skibidi\", \"skibidi\", \"skz\", \"smackdown\", \"soccer\", \"soccer\", \"song\", \"song\", \"song\", \"spark\", \"sport\", \"sport\", \"sport\", \"sport\", \"star\", \"star\", \"star\", \"star\", \"stoke\", \"stori\", \"stori\", \"stori\", \"stream\", \"stream\", \"stream\", \"stream\", \"stream\", \"street\", \"supercel\", \"superhero\", \"tamil\", \"teaser\", \"teaser\", \"teaser\", \"thu\\u1eadt\", \"tik\", \"tik\", \"tiktok\", \"tiktok\", \"tiktok\", \"tini\", \"tip\", \"titan\", \"toilet\", \"toilet\", \"tok\", \"tok\", \"trahan\", \"trailer\", \"trap\", \"trump\", \"try\", \"twin\", \"uefa\", \"ufc\", \"unit\", \"unit\", \"unit\", \"utd\", \"valencia\", \"vecino\", \"vector\", \"video\", \"video\", \"video\", \"video\", \"video\", \"video\", \"vigevani\", \"vijai\", \"vine\", \"vip\", \"viral\", \"viral\", \"vivo\", \"vi\\u00ean\", \"vlog\", \"vlog\", \"vlog\", \"vlog\", \"vlog\", \"world\", \"world\", \"world\", \"world\", \"world\", \"wwe\", \"wwe\", \"yeni\", \"youtub\", \"youtub\", \"youtub\", \"youtub\", \"youtub\", \"youtub\", \"youtub\", \"\\u0111i\\u1ec7n\", \"\\u043a\\u0430\\u043c\\u0435\\u0434\\u0438\", \"\\u043a\\u043b\\u0430\\u0431\", \"\\u043d\\u043e\\u0432\\u0438\\u043d\\u0438\", \"\\u0627\\u0628\\u0648\", \"\\u0627\\u0628\\u0648\", \"\\u0627\\u062d\\u0645\\u062f\", \"\\u0627\\u062e\\u0628\\u0627\\u0631\", \"\\u0627\\u0644\\u0623\\u0647\\u0644\\u064a\", \"\\u0627\\u0644\\u0627\\u0647\\u0644\\u064a\", \"\\u0627\\u0644\\u062f\\u0648\\u0631\\u064a\", \"\\u0627\\u0644\\u0632\\u0645\\u0627\\u0644\\u0643\", \"\\u0627\\u0644\\u0639\\u064a\\u062f\", \"\\u0627\\u0644\\u0645\\u0635\\u0631\\u064a\", \"\\u0627\\u0644\\u0647\\u0644\\u0627\\u0644\", \"\\u0627\\u0644\\u064a\\u0648\\u0645\", \"\\u0627\\u0644\\u064a\\u0648\\u0645\", \"\\u0627\\u0646\\u0633\", \"\\u0627\\u0647\\u062f\\u0627\\u0641\", \"\\u0628\\u0627\\u0648\\u0631\", \"\\u0628\\u0628\\u062c\\u064a\", \"\\u0628\\u0631\\u0634\\u0644\\u0648\\u0646\\u0629\", \"\\u0628\\u0643\\u062c\\u0627\\u062a\", \"\\u0628\\u0644\\u0633\", \"\\u0628\\u064a\\u0648\\u062a\\u064a\", \"\\u062a\\u062d\\u062f\\u064a\", \"\\u062a\\u062d\\u062f\\u064a\", \"\\u062a\\u062d\\u062f\\u064a\", \"\\u062a\\u062d\\u062f\\u064a\", \"\\u062a\\u062d\\u062f\\u064a\\u0627\\u062a\", \"\\u062a\\u062d\\u062f\\u064a\\u0627\\u062a\", \"\\u062e\\u0634\\u0628\", \"\\u062f\\u0648\\u0631\\u064a\", \"\\u0631\\u0627\\u0645\\u0632\", \"\\u0631\\u0645\\u0636\\u0627\\u0646\", \"\\u0633\\u0627\\u0631\\u0629\", \"\\u0633\\u062a\\u0627\\u0631\\u0632\", \"\\u0634\\u064a\\u0631\\u064a\\u0646\", \"\\u0639\\u0627\\u0626\\u0644\\u0629\", \"\\u063a\\u0632\\u0629\", \"\\u063a\\u0632\\u0629\", \"\\u063a\\u064a\\u062b\", \"\\u0641\\u0644\\u0645\", \"\\u0641\\u0648\\u0631\\u062a\", \"\\u0641\\u0648\\u0631\\u062a\\u0646\\u0627\\u064a\\u062a\", \"\\u0642\\u0631\\u0627\\u0646\\u062f\", \"\\u0642\\u0646\\u0627\\u0629\", \"\\u0642\\u0646\\u0627\\u0629\", \"\\u0642\\u0646\\u0627\\u0629\", \"\\u0643\\u0631\\u0627\\u0641\\u062a\", \"\\u0643\\u0648\\u0631\\u0629\", \"\\u0645\\u0627\\u064a\\u0646\", \"\\u0645\\u0628\\u0627\\u0631\\u0627\\u0629\", \"\\u0645\\u0628\\u0627\\u0634\\u0631\", \"\\u0645\\u0628\\u0627\\u0634\\u0631\", \"\\u0645\\u0628\\u0627\\u0634\\u0631\", \"\\u0645\\u062d\\u0645\\u062f\", \"\\u0645\\u062d\\u0645\\u062f\", \"\\u0645\\u062d\\u0645\\u062f\", \"\\u0645\\u062d\\u0645\\u062f\", \"\\u0645\\u0633\\u0644\\u0633\\u0644\", \"\\u0645\\u0635\\u0631\", \"\\u0645\\u0635\\u0631\", \"\\u0645\\u0635\\u0631\", \"\\u0645\\u0642\\u0627\\u0644\\u0628\", \"\\u0645\\u0644\\u062e\\u0635\", \"\\u0646\\u0627\\u0631\\u064a\\u0646\", \"\\u0646\\u0627\\u064a\\u062a\", \"\\u0646\\u0648\\u0631\", \"\\u1ea3nh\", \"\\uc2a4\\ud0a4\\uc988\"]}, \"R\": 30, \"lambda.step\": 0.01, \"plot.opts\": {\"xlab\": \"PC1\", \"ylab\": \"PC2\"}, \"topic.order\": [6, 1, 7, 3, 2, 4, 5]};\n",
       "\n",
       "function LDAvis_load_lib(url, callback){\n",
       "  var s = document.createElement('script');\n",
       "  s.src = url;\n",
       "  s.async = true;\n",
       "  s.onreadystatechange = s.onload = callback;\n",
       "  s.onerror = function(){console.warn(\"failed to load library \" + url);};\n",
       "  document.getElementsByTagName(\"head\")[0].appendChild(s);\n",
       "}\n",
       "\n",
       "if(typeof(LDAvis) !== \"undefined\"){\n",
       "   // already loaded: just create the visualization\n",
       "   !function(LDAvis){\n",
       "       new LDAvis(\"#\" + \"ldavis_el2098827916194819365450792858\", ldavis_el2098827916194819365450792858_data);\n",
       "   }(LDAvis);\n",
       "}else if(typeof define === \"function\" && define.amd){\n",
       "   // require.js is available: use it to load d3/LDAvis\n",
       "   require.config({paths: {d3: \"https://d3js.org/d3.v5\"}});\n",
       "   require([\"d3\"], function(d3){\n",
       "      window.d3 = d3;\n",
       "      LDAvis_load_lib(\"https://cdn.jsdelivr.net/gh/bmabey/pyLDAvis@3.4.0/pyLDAvis/js/ldavis.v3.0.0.js\", function(){\n",
       "        new LDAvis(\"#\" + \"ldavis_el2098827916194819365450792858\", ldavis_el2098827916194819365450792858_data);\n",
       "      });\n",
       "    });\n",
       "}else{\n",
       "    // require.js not available: dynamically load d3 & LDAvis\n",
       "    LDAvis_load_lib(\"https://d3js.org/d3.v5.js\", function(){\n",
       "         LDAvis_load_lib(\"https://cdn.jsdelivr.net/gh/bmabey/pyLDAvis@3.4.0/pyLDAvis/js/ldavis.v3.0.0.js\", function(){\n",
       "                 new LDAvis(\"#\" + \"ldavis_el2098827916194819365450792858\", ldavis_el2098827916194819365450792858_data);\n",
       "            })\n",
       "         });\n",
       "}\n",
       "</script>"
      ],
      "text/plain": [
       "<IPython.core.display.HTML object>"
      ]
     },
     "execution_count": 154,
     "metadata": {},
     "output_type": "execute_result"
    }
   ],
   "source": [
    "pyLDAvis.display(pyldavis_data)"
   ]
  },
  {
   "cell_type": "code",
   "execution_count": 156,
   "id": "7d8e365e",
   "metadata": {},
   "outputs": [
    {
     "data": {
      "text/plain": [
       "[6, 1, 7, 3, 2, 4, 5]"
      ]
     },
     "execution_count": 156,
     "metadata": {},
     "output_type": "execute_result"
    }
   ],
   "source": [
    "pyldavis_data.topic_order"
   ]
  },
  {
   "cell_type": "code",
   "execution_count": 157,
   "id": "c204c690",
   "metadata": {},
   "outputs": [
    {
     "name": "stdout",
     "output_type": "stream",
     "text": [
      "pyLDAvis Topic 1 -> LDA Topic 6\n",
      "pyLDAvis Topic 2 -> LDA Topic 1\n",
      "pyLDAvis Topic 3 -> LDA Topic 7\n",
      "pyLDAvis Topic 4 -> LDA Topic 3\n",
      "pyLDAvis Topic 5 -> LDA Topic 2\n",
      "pyLDAvis Topic 6 -> LDA Topic 4\n",
      "pyLDAvis Topic 7 -> LDA Topic 5\n"
     ]
    }
   ],
   "source": [
    "for idx, lda_id in enumerate(pyldavis_data.topic_order):\n",
    "    print(f\"pyLDAvis Topic {idx+1} -> LDA Topic {lda_id}\")"
   ]
  },
  {
   "cell_type": "markdown",
   "id": "c3d4660a",
   "metadata": {},
   "source": [
    "#### Evaluate and interprete the model performance"
   ]
  },
  {
   "cell_type": "markdown",
   "id": "a3a42ea9",
   "metadata": {},
   "source": [
    "I used an LDA model to analyze the video tags, mainly to see if certain content themes are more closely related to trending videos. To make the analysis more reliable, I calculated the trend rate for each topic (i.e., the proportion of videos labeled as trending within that topic). I also added a custom score (trend rate × log of video count) to help balance trendiness and sample stability—so that small topics with high trend rates wouldn’t be overemphasized.\n",
    "\n",
    "Besides the numbers, I also used pyLDAvis for visualization. This tool maps out each topic in a semantic space and shows the most representative keywords for each one. It gives a very intuitive view of which topics are more dominant or better defined.\n",
    "\n",
    "Among all the topics, Topic 5 from the LDA model (which appears as Topic 1 in pyLDAvis) stood out the most. It had the highest trend score, and in the pyLDAvis plot, it was also the largest circle and positioned near the center. The top keywords for this topic include: \"funny\", \"prank\", \"comedy\", \"tiktok\", \"short\", \"family\", \"video\", etc.\n",
    "\n",
    "These words suggest that the topic is mainly about lighthearted and humorous short videos—basically the kind of viral content often seen on platforms like TikTok. I also checked some sample titles from this group, and most of them matched this theme: playful, family-oriented, or comedic content.\n",
    "\n",
    "This makes sense. On one hand, these types of videos naturally get more engagement and shares; on the other, platform algorithms tend to favor this style of content. So both the trend score and the visual position in pyLDAvis confirm that this is the strongest-performing topic overall."
   ]
  },
  {
   "cell_type": "markdown",
   "id": "ff77a2ee",
   "metadata": {},
   "source": [
    "### Integrate supervised and unsupervised"
   ]
  },
  {
   "cell_type": "markdown",
   "id": "c4a4cfaf",
   "metadata": {},
   "source": [
    "To connect the supervised and unsupervised parts of the project, I used the Random Forest model I trained earlier to predict which videos are likely to trend. I ran this prediction on the same 100,000 samples that I used for KMeans clustering.\n",
    "\n",
    "Then I grouped the videos by KMeans cluster and calculated the average predicted trend rate and the actual trend rate (from the binary labels) for each cluster.\n",
    "\n",
    "This helped me check if the clusters with high actual trend rates also get high predictions from the model. The results show that the predicted and true trend rates are pretty close in most clusters, which means the clusters are meaningful and the model does a good job recognizing trend-prone content."
   ]
  },
  {
   "cell_type": "code",
   "execution_count": 217,
   "id": "3545d923",
   "metadata": {},
   "outputs": [
    {
     "data": {
      "text/html": [
       "<div>\n",
       "<style scoped>\n",
       "    .dataframe tbody tr th:only-of-type {\n",
       "        vertical-align: middle;\n",
       "    }\n",
       "\n",
       "    .dataframe tbody tr th {\n",
       "        vertical-align: top;\n",
       "    }\n",
       "\n",
       "    .dataframe thead th {\n",
       "        text-align: right;\n",
       "    }\n",
       "</style>\n",
       "<table border=\"1\" class=\"dataframe\">\n",
       "  <thead>\n",
       "    <tr style=\"text-align: right;\">\n",
       "      <th></th>\n",
       "      <th>True Trend Rate</th>\n",
       "      <th>Predicted Trend Rate</th>\n",
       "    </tr>\n",
       "    <tr>\n",
       "      <th>kmeans_cluster</th>\n",
       "      <th></th>\n",
       "      <th></th>\n",
       "    </tr>\n",
       "  </thead>\n",
       "  <tbody>\n",
       "    <tr>\n",
       "      <th>19</th>\n",
       "      <td>0.902299</td>\n",
       "      <td>0.850575</td>\n",
       "    </tr>\n",
       "    <tr>\n",
       "      <th>0</th>\n",
       "      <td>0.297645</td>\n",
       "      <td>0.259101</td>\n",
       "    </tr>\n",
       "    <tr>\n",
       "      <th>18</th>\n",
       "      <td>0.246787</td>\n",
       "      <td>0.239075</td>\n",
       "    </tr>\n",
       "    <tr>\n",
       "      <th>9</th>\n",
       "      <td>0.254065</td>\n",
       "      <td>0.225610</td>\n",
       "    </tr>\n",
       "    <tr>\n",
       "      <th>20</th>\n",
       "      <td>0.209479</td>\n",
       "      <td>0.191469</td>\n",
       "    </tr>\n",
       "    <tr>\n",
       "      <th>21</th>\n",
       "      <td>0.134251</td>\n",
       "      <td>0.141136</td>\n",
       "    </tr>\n",
       "    <tr>\n",
       "      <th>23</th>\n",
       "      <td>0.176056</td>\n",
       "      <td>0.126761</td>\n",
       "    </tr>\n",
       "    <tr>\n",
       "      <th>1</th>\n",
       "      <td>0.126215</td>\n",
       "      <td>0.116209</td>\n",
       "    </tr>\n",
       "    <tr>\n",
       "      <th>24</th>\n",
       "      <td>0.134677</td>\n",
       "      <td>0.113468</td>\n",
       "    </tr>\n",
       "    <tr>\n",
       "      <th>16</th>\n",
       "      <td>0.115073</td>\n",
       "      <td>0.111831</td>\n",
       "    </tr>\n",
       "    <tr>\n",
       "      <th>12</th>\n",
       "      <td>0.101911</td>\n",
       "      <td>0.101911</td>\n",
       "    </tr>\n",
       "    <tr>\n",
       "      <th>13</th>\n",
       "      <td>0.100543</td>\n",
       "      <td>0.097826</td>\n",
       "    </tr>\n",
       "    <tr>\n",
       "      <th>10</th>\n",
       "      <td>0.096948</td>\n",
       "      <td>0.086176</td>\n",
       "    </tr>\n",
       "    <tr>\n",
       "      <th>22</th>\n",
       "      <td>0.079320</td>\n",
       "      <td>0.071105</td>\n",
       "    </tr>\n",
       "    <tr>\n",
       "      <th>11</th>\n",
       "      <td>0.061892</td>\n",
       "      <td>0.060501</td>\n",
       "    </tr>\n",
       "    <tr>\n",
       "      <th>4</th>\n",
       "      <td>0.049961</td>\n",
       "      <td>0.051928</td>\n",
       "    </tr>\n",
       "    <tr>\n",
       "      <th>6</th>\n",
       "      <td>0.048108</td>\n",
       "      <td>0.040575</td>\n",
       "    </tr>\n",
       "    <tr>\n",
       "      <th>2</th>\n",
       "      <td>0.058140</td>\n",
       "      <td>0.034884</td>\n",
       "    </tr>\n",
       "    <tr>\n",
       "      <th>8</th>\n",
       "      <td>0.038078</td>\n",
       "      <td>0.029918</td>\n",
       "    </tr>\n",
       "    <tr>\n",
       "      <th>14</th>\n",
       "      <td>0.038405</td>\n",
       "      <td>0.029655</td>\n",
       "    </tr>\n",
       "    <tr>\n",
       "      <th>17</th>\n",
       "      <td>0.032086</td>\n",
       "      <td>0.026738</td>\n",
       "    </tr>\n",
       "    <tr>\n",
       "      <th>5</th>\n",
       "      <td>0.024783</td>\n",
       "      <td>0.024783</td>\n",
       "    </tr>\n",
       "    <tr>\n",
       "      <th>3</th>\n",
       "      <td>0.014634</td>\n",
       "      <td>0.009756</td>\n",
       "    </tr>\n",
       "    <tr>\n",
       "      <th>7</th>\n",
       "      <td>0.000000</td>\n",
       "      <td>0.000000</td>\n",
       "    </tr>\n",
       "    <tr>\n",
       "      <th>15</th>\n",
       "      <td>0.000000</td>\n",
       "      <td>0.000000</td>\n",
       "    </tr>\n",
       "  </tbody>\n",
       "</table>\n",
       "</div>"
      ],
      "text/plain": [
       "                True Trend Rate  Predicted Trend Rate\n",
       "kmeans_cluster                                       \n",
       "19                     0.902299              0.850575\n",
       "0                      0.297645              0.259101\n",
       "18                     0.246787              0.239075\n",
       "9                      0.254065              0.225610\n",
       "20                     0.209479              0.191469\n",
       "21                     0.134251              0.141136\n",
       "23                     0.176056              0.126761\n",
       "1                      0.126215              0.116209\n",
       "24                     0.134677              0.113468\n",
       "16                     0.115073              0.111831\n",
       "12                     0.101911              0.101911\n",
       "13                     0.100543              0.097826\n",
       "10                     0.096948              0.086176\n",
       "22                     0.079320              0.071105\n",
       "11                     0.061892              0.060501\n",
       "4                      0.049961              0.051928\n",
       "6                      0.048108              0.040575\n",
       "2                      0.058140              0.034884\n",
       "8                      0.038078              0.029918\n",
       "14                     0.038405              0.029655\n",
       "17                     0.032086              0.026738\n",
       "5                      0.024783              0.024783\n",
       "3                      0.014634              0.009756\n",
       "7                      0.000000              0.000000\n",
       "15                     0.000000              0.000000"
      ]
     },
     "metadata": {},
     "output_type": "display_data"
    }
   ],
   "source": [
    "sample_df['kmeans_cluster'] = kmeans.labels_\n",
    "\n",
    "sample_df['predicted_trend'] = best_model.predict(X)\n",
    "\n",
    "predicted_cluster_trend = sample_df.groupby('kmeans_cluster')['predicted_trend'].mean().rename('Predicted Trend Rate')\n",
    "\n",
    "true_cluster_trend = sample_df.groupby('kmeans_cluster')['is_trend'].mean().rename('True Trend Rate')\n",
    "\n",
    "trend_comparison = pd.concat([true_cluster_trend, predicted_cluster_trend], axis=1)\n",
    "\n",
    "display(trend_comparison.sort_values(by='Predicted Trend Rate', ascending=False))"
   ]
  }
 ],
 "metadata": {
  "colab": {
   "provenance": []
  },
  "kernelspec": {
   "display_name": "base",
   "language": "python",
   "name": "python3"
  },
  "language_info": {
   "codemirror_mode": {
    "name": "ipython",
    "version": 3
   },
   "file_extension": ".py",
   "mimetype": "text/x-python",
   "name": "python",
   "nbconvert_exporter": "python",
   "pygments_lexer": "ipython3",
   "version": "3.11.5"
  },
  "toc": {
   "base_numbering": 1,
   "nav_menu": {},
   "number_sections": true,
   "sideBar": true,
   "skip_h1_title": false,
   "title_cell": "Table of Contents",
   "title_sidebar": "Contents",
   "toc_cell": false,
   "toc_position": {
    "height": "calc(100% - 180px)",
    "left": "10px",
    "top": "150px",
    "width": "300.341px"
   },
   "toc_section_display": true,
   "toc_window_display": true
  }
 },
 "nbformat": 4,
 "nbformat_minor": 5
}
